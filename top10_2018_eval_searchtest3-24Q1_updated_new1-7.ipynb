{
 "cells": [
  {
   "cell_type": "code",
   "execution_count": 261,
   "id": "0253cca7",
   "metadata": {
    "id": "0253cca7"
   },
   "outputs": [
    {
     "name": "stdout",
     "output_type": "stream",
     "text": [
      "The history saving thread hit an unexpected error (OperationalError('database is locked')).History will not be written to the database.\n"
     ]
    }
   ],
   "source": [
    "import pandas as pd\n",
    "import numpy as np\n",
    "import pickle\n",
    "from tqdm.auto import tqdm\n",
    "import re\n",
    "import time\n",
    "import csv"
   ]
  },
  {
   "cell_type": "markdown",
   "id": "e4dfe077",
   "metadata": {},
   "source": [
    "# 메인 text dataframe 불러오기\n",
    "## - selected_dataset_text"
   ]
  },
  {
   "cell_type": "code",
   "execution_count": 2,
   "id": "c5986d8d",
   "metadata": {},
   "outputs": [],
   "source": [
    "# search_dataset_reconstructuring에서 만든 파일 사용\n",
    "selected_dataset_text= pd.read_pickle('F:\\cluster_test_2024\\wos2413db_pkls\\wos2024q1_text_info.pkl')"
   ]
  },
  {
   "cell_type": "code",
   "execution_count": 3,
   "id": "298d896d",
   "metadata": {},
   "outputs": [
    {
     "data": {
      "text/plain": [
       "Index(['uid', 'pubyear', 'title', 'keyword', 'abstract_cleaned'], dtype='object')"
      ]
     },
     "execution_count": 3,
     "metadata": {},
     "output_type": "execute_result"
    }
   ],
   "source": [
    "# 컬럼명을 기존 분석과 맞춰주기\n",
    "selected_dataset_text.columns"
   ]
  },
  {
   "cell_type": "code",
   "execution_count": 4,
   "id": "7f3618b3",
   "metadata": {},
   "outputs": [],
   "source": [
    "## 특히, 제목-저자키워드-초록 컬럼명은 동일해야 분석 과정에서 오류를 방지.\n",
    "selected_dataset_text.columns = ['uid', 'pubyear', 'item', 'aukey', 'abstract']"
   ]
  },
  {
   "cell_type": "code",
   "execution_count": 7,
   "id": "b8eda5b1",
   "metadata": {},
   "outputs": [],
   "source": [
    "# 검색을 위해 저자키워드 구분 기호 ';' 삭제\n",
    "selected_dataset_text['aukey_modified'] = selected_dataset_text['aukey'].str.replace(';', ' ')"
   ]
  },
  {
   "cell_type": "code",
   "execution_count": 8,
   "id": "40e9d61c",
   "metadata": {},
   "outputs": [],
   "source": [
    "# na를 빈텍스트로 치환\n",
    "selected_dataset_text = selected_dataset_text.fillna('')"
   ]
  },
  {
   "cell_type": "code",
   "execution_count": 9,
   "id": "466a0428",
   "metadata": {},
   "outputs": [
    {
     "data": {
      "text/plain": [
       "2023"
      ]
     },
     "execution_count": 9,
     "metadata": {},
     "output_type": "execute_result"
    }
   ],
   "source": [
    "# 분석 전 최종 데이터 확인\n",
    "selected_dataset_text['pubyear'].max()"
   ]
  },
  {
   "cell_type": "code",
   "execution_count": null,
   "id": "b7124d03",
   "metadata": {},
   "outputs": [],
   "source": []
  },
  {
   "cell_type": "markdown",
   "id": "03d7b287",
   "metadata": {},
   "source": [
    "# CASE별 함수 선언"
   ]
  },
  {
   "cell_type": "code",
   "execution_count": 10,
   "id": "b9376291",
   "metadata": {
    "id": "b9376291"
   },
   "outputs": [],
   "source": [
    "# OR로만 이루어진 단순한 검색식의 경우 사용할 함수 선언\n",
    "def search_and_organize(technology, search_texts, df_text_full_20_full,technology_search_results):\n",
    "    technology_search_results = technology_search_results\n",
    "\n",
    "    # aukey 컬럼에서 검색\n",
    "    results_aukey = []\n",
    "    for text in tqdm(search_texts, desc=f\"search_in_aukey for {technology}\"):\n",
    "        result = df_text_full_20_full[df_text_full_20_full['aukey_modified'].str.contains(text, case=False, regex=True)]\n",
    "        results_aukey.append(result)\n",
    "    concatenated_results = pd.concat(results_aukey).drop_duplicates().reset_index(drop=True)\n",
    "\n",
    "    # abstract 컬럼에서 검색\n",
    "    results_abstract = []\n",
    "    for text in tqdm(search_texts, desc=f\"search_in_abstract for {technology}\"):\n",
    "        result_abs = df_text_full_20_full[df_text_full_20_full['abstract'].str.contains(text, case=False, regex=True)]\n",
    "        results_abstract.append(result_abs)\n",
    "    concatenated_results_abs = pd.concat(results_abstract).drop_duplicates().reset_index(drop=True)\n",
    "\n",
    "    # 검색어를 포함하는 행의 수 계산\n",
    "    shapes = [result.shape[0] for result in results_aukey]\n",
    "    shapes_abs = [result_abs.shape[0] for result_abs in results_abstract]\n",
    "    npubs_contain_searchterms = pd.DataFrame([shapes, shapes_abs]).T\n",
    "    npubs_contain_searchterms.columns = ['aukey_npubs','abstract_npubs']\n",
    "    npubs_contain_searchterms.index = search_texts\n",
    "    npubs_contain_searchterms.loc['total_npubs'] = [concatenated_results.shape[0],concatenated_results_abs.shape[0]]\n",
    "\n",
    "    # 결과를 딕셔너리에 저장\n",
    "    technology_search_results[technology] = {\n",
    "        'concatenated_results': concatenated_results,\n",
    "        'concatenated_results_abs': concatenated_results_abs,\n",
    "        'npubs_contain_searchterms': npubs_contain_searchterms\n",
    "    }\n",
    "\n",
    "    return technology_search_results"
   ]
  },
  {
   "cell_type": "code",
   "execution_count": 11,
   "id": "0b7f5912",
   "metadata": {
    "id": "0b7f5912"
   },
   "outputs": [],
   "source": [
    "# AND가 2개의 OR검색식을 연결한 경우 사용할 함수 선언\n",
    "def search_and_organize_1and(technology, search_texts_1st, search_texts_2nd, df_text_full_20_full,technology_search_results):\n",
    "\n",
    "    # OR단순검색식 탐색 함수 1회 실행\n",
    "    technology_search_results = search_and_organize(technology, search_texts_1st, df_text_full_20_full, technology_search_results)\n",
    "\n",
    "    # 2차 검색식 정의\n",
    "    search_texts_2nd = search_texts_2nd\n",
    "    # 2차 검색 범위 정의\n",
    "    concatenated_results1 = technology_search_results[technology]['concatenated_results']\n",
    "    concatenated_results_abs1 = technology_search_results[technology]['concatenated_results_abs']\n",
    "    npubs_contain_searchterms = technology_search_results[technology]['npubs_contain_searchterms']\n",
    "\n",
    "    # aukey 컬럼에서 검색\n",
    "    results_aukey = []\n",
    "    for text in tqdm(search_texts_2nd, desc=f\"search_in_aukey for {technology}\"):\n",
    "        result = concatenated_results1[concatenated_results1['aukey_modified'].str.contains(text, case=False, regex=True)]\n",
    "        results_aukey.append(result)\n",
    "    concatenated_results = pd.concat(results_aukey).drop_duplicates().reset_index(drop=True)\n",
    "\n",
    "    # abstract 컬럼에서 검색\n",
    "    results_abstract = []\n",
    "    for text in tqdm(search_texts_2nd, desc=f\"search_in_abstract for {technology}\"):\n",
    "        result_abs = concatenated_results_abs1[concatenated_results_abs1['abstract'].str.contains(text, case=False, regex=True)]\n",
    "        results_abstract.append(result_abs)\n",
    "    concatenated_results_abs = pd.concat(results_abstract).drop_duplicates().reset_index(drop=True)\n",
    "\n",
    "    # 검색어를 포함하는 행의 수 계산\n",
    "    shapes = [result.shape[0] for result in results_aukey]\n",
    "    shapes_abs = [result_abs.shape[0] for result_abs in results_abstract]\n",
    "    npubs_contain_searchterms1 = pd.DataFrame([shapes, shapes_abs]).T\n",
    "    npubs_contain_searchterms1.columns = ['aukey_npubs','abstract_npubs']\n",
    "    npubs_contain_searchterms1.index = search_texts_2nd\n",
    "    npubs_contain_searchterms1.loc['total_npubs'] = [concatenated_results.shape[0],concatenated_results_abs.shape[0]]\n",
    "\n",
    "    # 결과를 딕셔너리에 저장\n",
    "    technology_search_results[technology] = {\n",
    "        'concatenated_results': concatenated_results,\n",
    "        'concatenated_results_abs': concatenated_results_abs,\n",
    "        'npubs_contain_searchterms': pd.concat([npubs_contain_searchterms, npubs_contain_searchterms1])\n",
    "    }\n",
    "\n",
    "    return technology_search_results"
   ]
  },
  {
   "cell_type": "code",
   "execution_count": 220,
   "id": "c33ea321",
   "metadata": {},
   "outputs": [],
   "source": [
    "def search_and_organize_combined(technology, search_text_groups, df_text_full_20_full, technology_search_results):\n",
    "    combined_results_aukey = None\n",
    "    combined_results_abstract = None\n",
    "    combined_npubs_contain_searchterms_list = []\n",
    "\n",
    "    # 각 search_text 그룹에 대해 search_and_organize 함수 실행\n",
    "    for search_texts in search_text_groups:\n",
    "        technology_search_results = search_and_organize(technology, search_texts, df_text_full_20_full, technology_search_results)\n",
    "        \n",
    "        # 현재 그룹의 결과 가져오기\n",
    "        current_results = technology_search_results[technology]\n",
    "        current_results_aukey = current_results['concatenated_results']\n",
    "        current_results_abstract = current_results['concatenated_results_abs']\n",
    "        current_npubs_contain_searchterms = current_results['npubs_contain_searchterms']\n",
    "\n",
    "        # npubs_contain_searchterms 데이터프레임을 리스트에 추가  (다시 실행해 볼것!!!)\n",
    "        combined_npubs_contain_searchterms_list.append(current_npubs_contain_searchterms)\n",
    "        # npubs_contain_searchterms 데이터프레임을 리스트에 추가 (index를 컬럼으로 변환)\n",
    "#        combined_npubs_contain_searchterms_list.append(current_npubs_contain_searchterms.reset_index())\n",
    "\n",
    "\n",
    "        # 결과를 AND로 연결\n",
    "        if combined_results_aukey is None:\n",
    "            combined_results_aukey = current_results_aukey\n",
    "        else:\n",
    "            combined_results_aukey = pd.merge(combined_results_aukey, current_results_aukey, how='inner')\n",
    "        \n",
    "        if combined_results_abstract is None:\n",
    "            combined_results_abstract = current_results_abstract\n",
    "        else:\n",
    "            combined_results_abstract = pd.merge(combined_results_abstract, current_results_abstract, how='inner')\n",
    "\n",
    "    # npubs_contain_searchterms 데이터프레임들을 세로로 concat하여 combined_npubs_contain_searchterms 생성\n",
    "    combined_npubs_contain_searchterms = pd.concat(combined_npubs_contain_searchterms_list).reset_index(drop=True)\n",
    "    \n",
    "    # total_npubs 행 추가\n",
    "#    total_npubs = pd.DataFrame({'index': ['total_npubs'], \n",
    "#                                'aukey_npubs': [combined_npubs_contain_searchterms['aukey_npubs'].sum()/2], \n",
    "#                                'abstract_npubs': [combined_npubs_contain_searchterms['abstract_npubs'].sum()/2]})\n",
    "#    combined_npubs_contain_searchterms = pd.concat([combined_npubs_contain_searchterms, total_npubs.set_index('index')])\n",
    "\n",
    "    # total_npubs 행 추가\n",
    "    total_npubs = pd.DataFrame({'index': ['total_npubs'], \n",
    "                                'aukey_npubs': [combined_results_aukey.shape[0]], \n",
    "                                'abstract_npubs': [combined_results_abstract.shape[0]]})\n",
    "    combined_npubs_contain_searchterms = pd.concat([combined_npubs_contain_searchterms, total_npubs.set_index('index')])\n",
    "    \n",
    "    # 최종 결과 저장\n",
    "    technology_search_results[technology] = {\n",
    "        'concatenated_results': combined_results_aukey,\n",
    "        'concatenated_results_abs': combined_results_abstract,\n",
    "        'npubs_contain_searchterms': combined_npubs_contain_searchterms\n",
    "#    technology_search_results[technology] = {\n",
    "#        'combined_results_aukey': combined_results_aukey,\n",
    "#        'combined_results_abstract': combined_results_abstract,\n",
    "#        'combined_npubs_contain_searchterms': combined_npubs_contain_searchterms\n",
    "        \n",
    "    }\n",
    "\n",
    "    return technology_search_results"
   ]
  },
  {
   "cell_type": "code",
   "execution_count": null,
   "id": "31072e14",
   "metadata": {
    "id": "31072e14"
   },
   "outputs": [],
   "source": []
  },
  {
   "cell_type": "code",
   "execution_count": 231,
   "id": "e84ba3b1",
   "metadata": {
    "id": "e84ba3b1"
   },
   "outputs": [],
   "source": [
    "# 최초 딕셔너리 선언\n",
    "technology_search_results = {}"
   ]
  },
  {
   "cell_type": "code",
   "execution_count": 235,
   "id": "7cb2420c",
   "metadata": {},
   "outputs": [],
   "source": [
    "## case3 가장 복잡한 경우\n",
    "# 기술명 선언\n",
    "technology = '1-1. 금속 3D 프린팅(A-set)gpt'\n",
    "\n",
    "# 1차 검색식 입력\n",
    "search_texts_1st = [r'\\bmetal\\b']\n",
    "\n",
    "# 2차 검색식 입력\n",
    "search_texts_2nd = [\n",
    "    '3D printing', 'Additive Manufacturing', 'Selective Laser Sintering', \n",
    "    'Selective Laser Melting', 'Powder Bed Fusion', 'Direct Energy Deposition'\n",
    "]\n",
    "\n",
    "# 검색식 재입력\n",
    "search_text_groups = [search_texts_1st, search_texts_2nd]"
   ]
  },
  {
   "cell_type": "code",
   "execution_count": 236,
   "id": "05ec7c44",
   "metadata": {},
   "outputs": [
    {
     "data": {
      "application/vnd.jupyter.widget-view+json": {
       "model_id": "01d48f1ebb5e4750ac23e38c4ff211a7",
       "version_major": 2,
       "version_minor": 0
      },
      "text/plain": [
       "search_in_aukey for 1-1. 금속 3D 프린팅(A-set)gpt:   0%|          | 0/1 [00:00<?, ?it/s]"
      ]
     },
     "metadata": {},
     "output_type": "display_data"
    },
    {
     "data": {
      "application/vnd.jupyter.widget-view+json": {
       "model_id": "73e106c879ba4dce84b927f8ca7f4169",
       "version_major": 2,
       "version_minor": 0
      },
      "text/plain": [
       "search_in_abstract for 1-1. 금속 3D 프린팅(A-set)gpt:   0%|          | 0/1 [00:00<?, ?it/s]"
      ]
     },
     "metadata": {},
     "output_type": "display_data"
    },
    {
     "data": {
      "application/vnd.jupyter.widget-view+json": {
       "model_id": "facff044dcd647ce9813f2759e5fa6cd",
       "version_major": 2,
       "version_minor": 0
      },
      "text/plain": [
       "search_in_aukey for 1-1. 금속 3D 프린팅(A-set)gpt:   0%|          | 0/6 [00:00<?, ?it/s]"
      ]
     },
     "metadata": {},
     "output_type": "display_data"
    },
    {
     "data": {
      "application/vnd.jupyter.widget-view+json": {
       "model_id": "8ade18b8086146db96b26975629c61fe",
       "version_major": 2,
       "version_minor": 0
      },
      "text/plain": [
       "search_in_abstract for 1-1. 금속 3D 프린팅(A-set)gpt:   0%|          | 0/6 [00:00<?, ?it/s]"
      ]
     },
     "metadata": {},
     "output_type": "display_data"
    }
   ],
   "source": [
    "technology_search_results = search_and_organize_combined(technology, search_text_groups, selected_dataset_text, technology_search_results)\n"
   ]
  },
  {
   "cell_type": "code",
   "execution_count": 241,
   "id": "df64bbe0",
   "metadata": {},
   "outputs": [
    {
     "data": {
      "text/html": [
       "<div>\n",
       "<style scoped>\n",
       "    .dataframe tbody tr th:only-of-type {\n",
       "        vertical-align: middle;\n",
       "    }\n",
       "\n",
       "    .dataframe tbody tr th {\n",
       "        vertical-align: top;\n",
       "    }\n",
       "\n",
       "    .dataframe thead th {\n",
       "        text-align: right;\n",
       "    }\n",
       "</style>\n",
       "<table border=\"1\" class=\"dataframe\">\n",
       "  <thead>\n",
       "    <tr style=\"text-align: right;\">\n",
       "      <th></th>\n",
       "      <th>index</th>\n",
       "      <th>aukey_npubs</th>\n",
       "      <th>abstract_npubs</th>\n",
       "    </tr>\n",
       "  </thead>\n",
       "  <tbody>\n",
       "    <tr>\n",
       "      <th>0</th>\n",
       "      <td>\\bmetal\\b</td>\n",
       "      <td>196908</td>\n",
       "      <td>847159</td>\n",
       "    </tr>\n",
       "    <tr>\n",
       "      <th>1</th>\n",
       "      <td>total_npubs</td>\n",
       "      <td>196908</td>\n",
       "      <td>847159</td>\n",
       "    </tr>\n",
       "    <tr>\n",
       "      <th>2</th>\n",
       "      <td>3D printing</td>\n",
       "      <td>18105</td>\n",
       "      <td>21294</td>\n",
       "    </tr>\n",
       "    <tr>\n",
       "      <th>3</th>\n",
       "      <td>Additive Manufacturing</td>\n",
       "      <td>22109</td>\n",
       "      <td>26175</td>\n",
       "    </tr>\n",
       "    <tr>\n",
       "      <th>4</th>\n",
       "      <td>Selective Laser Sintering</td>\n",
       "      <td>1095</td>\n",
       "      <td>1880</td>\n",
       "    </tr>\n",
       "    <tr>\n",
       "      <th>5</th>\n",
       "      <td>Selective Laser Melting</td>\n",
       "      <td>5284</td>\n",
       "      <td>6406</td>\n",
       "    </tr>\n",
       "    <tr>\n",
       "      <th>6</th>\n",
       "      <td>Powder Bed Fusion</td>\n",
       "      <td>4012</td>\n",
       "      <td>5611</td>\n",
       "    </tr>\n",
       "    <tr>\n",
       "      <th>7</th>\n",
       "      <td>Direct Energy Deposition</td>\n",
       "      <td>349</td>\n",
       "      <td>448</td>\n",
       "    </tr>\n",
       "    <tr>\n",
       "      <th>8</th>\n",
       "      <td>total_npubs</td>\n",
       "      <td>44163</td>\n",
       "      <td>52575</td>\n",
       "    </tr>\n",
       "    <tr>\n",
       "      <th>total_npubs</th>\n",
       "      <td>NaN</td>\n",
       "      <td>2168</td>\n",
       "      <td>7142</td>\n",
       "    </tr>\n",
       "  </tbody>\n",
       "</table>\n",
       "</div>"
      ],
      "text/plain": [
       "                                 index  aukey_npubs  abstract_npubs\n",
       "0                            \\bmetal\\b       196908          847159\n",
       "1                          total_npubs       196908          847159\n",
       "2                          3D printing        18105           21294\n",
       "3               Additive Manufacturing        22109           26175\n",
       "4            Selective Laser Sintering         1095            1880\n",
       "5              Selective Laser Melting         5284            6406\n",
       "6                    Powder Bed Fusion         4012            5611\n",
       "7             Direct Energy Deposition          349             448\n",
       "8                          total_npubs        44163           52575\n",
       "total_npubs                        NaN         2168            7142"
      ]
     },
     "execution_count": 241,
     "metadata": {},
     "output_type": "execute_result"
    }
   ],
   "source": [
    "technology_search_results[technology]['npubs_contain_searchterms']"
   ]
  },
  {
   "cell_type": "code",
   "execution_count": 246,
   "id": "c37788a8",
   "metadata": {},
   "outputs": [],
   "source": [
    "## case3 가장 복잡한 경우\n",
    "# 기술명 선언 - 대안\n",
    "technology = '1-1. 금속 3D 프린팅(A-set)gpt_smaller'\n",
    "# 1차 검색식 입력\n",
    "search_texts_1st = [r'\\b3d\\b(?:\\s+\\w+){0,4}\\s+metal\\b', r'\\bmetal\\b(?:\\s+\\w+){0,4}\\s+3d\\b']\n",
    "\n",
    "# 2차 검색식 입력\n",
    "search_texts_2nd = [\n",
    "    '3D printing', 'Additive Manufacturing', 'Selective Laser Sintering', \n",
    "    'Selective Laser Melting', 'Powder Bed Fusion', 'Direct Energy Deposition'\n",
    "]\n",
    "# 검색식 재입력\n",
    "search_text_groups = [search_texts_1st, search_texts_2nd]"
   ]
  },
  {
   "cell_type": "code",
   "execution_count": 250,
   "id": "21dc2d48",
   "metadata": {},
   "outputs": [
    {
     "data": {
      "application/vnd.jupyter.widget-view+json": {
       "model_id": "05e66afdd1fe4929a70914283b3e6de1",
       "version_major": 2,
       "version_minor": 0
      },
      "text/plain": [
       "search_in_aukey for 1-1. 금속 3D 프린팅(A-set)gpt_smaller:   0%|          | 0/2 [00:00<?, ?it/s]"
      ]
     },
     "metadata": {},
     "output_type": "display_data"
    },
    {
     "data": {
      "application/vnd.jupyter.widget-view+json": {
       "model_id": "95e16bf8ee0c41afb41417f85aedc9e7",
       "version_major": 2,
       "version_minor": 0
      },
      "text/plain": [
       "search_in_abstract for 1-1. 금속 3D 프린팅(A-set)gpt_smaller:   0%|          | 0/2 [00:00<?, ?it/s]"
      ]
     },
     "metadata": {},
     "output_type": "display_data"
    },
    {
     "data": {
      "application/vnd.jupyter.widget-view+json": {
       "model_id": "cfdcc873c3ae434ab8b7139571058902",
       "version_major": 2,
       "version_minor": 0
      },
      "text/plain": [
       "search_in_aukey for 1-1. 금속 3D 프린팅(A-set)gpt_smaller:   0%|          | 0/6 [00:00<?, ?it/s]"
      ]
     },
     "metadata": {},
     "output_type": "display_data"
    },
    {
     "data": {
      "application/vnd.jupyter.widget-view+json": {
       "model_id": "394a2ea37b444f2d8621f73d943e4a36",
       "version_major": 2,
       "version_minor": 0
      },
      "text/plain": [
       "search_in_abstract for 1-1. 금속 3D 프린팅(A-set)gpt_smaller:   0%|          | 0/6 [00:00<?, ?it/s]"
      ]
     },
     "metadata": {},
     "output_type": "display_data"
    }
   ],
   "source": [
    "technology_search_results = search_and_organize_combined(technology, search_text_groups, selected_dataset_text, technology_search_results)"
   ]
  },
  {
   "cell_type": "code",
   "execution_count": 15,
   "id": "ac9978f5",
   "metadata": {
    "id": "ac9978f5",
    "outputId": "06f8e144-df79-4f79-ece5-64b0487ba715"
   },
   "outputs": [
    {
     "data": {
      "text/html": [
       "<div>\n",
       "<style scoped>\n",
       "    .dataframe tbody tr th:only-of-type {\n",
       "        vertical-align: middle;\n",
       "    }\n",
       "\n",
       "    .dataframe tbody tr th {\n",
       "        vertical-align: top;\n",
       "    }\n",
       "\n",
       "    .dataframe thead th {\n",
       "        text-align: right;\n",
       "    }\n",
       "</style>\n",
       "<table border=\"1\" class=\"dataframe\">\n",
       "  <thead>\n",
       "    <tr style=\"text-align: right;\">\n",
       "      <th></th>\n",
       "      <th>aukey_npubs</th>\n",
       "      <th>abstract_npubs</th>\n",
       "    </tr>\n",
       "  </thead>\n",
       "  <tbody>\n",
       "    <tr>\n",
       "      <th>\\b3d\\b(?:\\s+\\w+){0,4}\\s+metal\\b</th>\n",
       "      <td>504</td>\n",
       "      <td>3158</td>\n",
       "    </tr>\n",
       "    <tr>\n",
       "      <th>\\bmetal\\b(?:\\s+\\w+){0,4}\\s+3d\\b</th>\n",
       "      <td>389</td>\n",
       "      <td>857</td>\n",
       "    </tr>\n",
       "    <tr>\n",
       "      <th>total_npubs</th>\n",
       "      <td>875</td>\n",
       "      <td>3950</td>\n",
       "    </tr>\n",
       "    <tr>\n",
       "      <th>3D print.*</th>\n",
       "      <td>296</td>\n",
       "      <td>425</td>\n",
       "    </tr>\n",
       "    <tr>\n",
       "      <th>Additive Manufactur.*</th>\n",
       "      <td>110</td>\n",
       "      <td>198</td>\n",
       "    </tr>\n",
       "    <tr>\n",
       "      <th>\\bAM\\b</th>\n",
       "      <td>11</td>\n",
       "      <td>65</td>\n",
       "    </tr>\n",
       "    <tr>\n",
       "      <th>Rapid Prototyp.*</th>\n",
       "      <td>4</td>\n",
       "      <td>13</td>\n",
       "    </tr>\n",
       "    <tr>\n",
       "      <th>\\bRP\\b</th>\n",
       "      <td>0</td>\n",
       "      <td>6</td>\n",
       "    </tr>\n",
       "    <tr>\n",
       "      <th>\\bSLS\\b</th>\n",
       "      <td>0</td>\n",
       "      <td>8</td>\n",
       "    </tr>\n",
       "    <tr>\n",
       "      <th>Selective Laser Sintering</th>\n",
       "      <td>3</td>\n",
       "      <td>10</td>\n",
       "    </tr>\n",
       "    <tr>\n",
       "      <th>\\bSLM\\b</th>\n",
       "      <td>1</td>\n",
       "      <td>41</td>\n",
       "    </tr>\n",
       "    <tr>\n",
       "      <th>Selective Laser Melting</th>\n",
       "      <td>11</td>\n",
       "      <td>64</td>\n",
       "    </tr>\n",
       "    <tr>\n",
       "      <th>\\bSLA\\b</th>\n",
       "      <td>0</td>\n",
       "      <td>11</td>\n",
       "    </tr>\n",
       "    <tr>\n",
       "      <th>Stereo.?lithograph.*</th>\n",
       "      <td>1</td>\n",
       "      <td>25</td>\n",
       "    </tr>\n",
       "    <tr>\n",
       "      <th>\\bPBF\\b</th>\n",
       "      <td>1</td>\n",
       "      <td>12</td>\n",
       "    </tr>\n",
       "    <tr>\n",
       "      <th>Powder Bed Fusion</th>\n",
       "      <td>19</td>\n",
       "      <td>38</td>\n",
       "    </tr>\n",
       "    <tr>\n",
       "      <th>\\bDED\\b</th>\n",
       "      <td>5</td>\n",
       "      <td>15</td>\n",
       "    </tr>\n",
       "    <tr>\n",
       "      <th>Direct Ejection Deposition</th>\n",
       "      <td>0</td>\n",
       "      <td>0</td>\n",
       "    </tr>\n",
       "    <tr>\n",
       "      <th>\\bFDM\\b</th>\n",
       "      <td>4</td>\n",
       "      <td>7</td>\n",
       "    </tr>\n",
       "    <tr>\n",
       "      <th>Fused deposition modeling</th>\n",
       "      <td>5</td>\n",
       "      <td>10</td>\n",
       "    </tr>\n",
       "    <tr>\n",
       "      <th>\\bFFF\\b</th>\n",
       "      <td>0</td>\n",
       "      <td>5</td>\n",
       "    </tr>\n",
       "    <tr>\n",
       "      <th>Fused filament fabrication</th>\n",
       "      <td>4</td>\n",
       "      <td>6</td>\n",
       "    </tr>\n",
       "    <tr>\n",
       "      <th>total_npubs</th>\n",
       "      <td>327</td>\n",
       "      <td>535</td>\n",
       "    </tr>\n",
       "  </tbody>\n",
       "</table>\n",
       "</div>"
      ],
      "text/plain": [
       "                                 aukey_npubs  abstract_npubs\n",
       "\\b3d\\b(?:\\s+\\w+){0,4}\\s+metal\\b          504            3158\n",
       "\\bmetal\\b(?:\\s+\\w+){0,4}\\s+3d\\b          389             857\n",
       "total_npubs                              875            3950\n",
       "3D print.*                               296             425\n",
       "Additive Manufactur.*                    110             198\n",
       "\\bAM\\b                                    11              65\n",
       "Rapid Prototyp.*                           4              13\n",
       "\\bRP\\b                                     0               6\n",
       "\\bSLS\\b                                    0               8\n",
       "Selective Laser Sintering                  3              10\n",
       "\\bSLM\\b                                    1              41\n",
       "Selective Laser Melting                   11              64\n",
       "\\bSLA\\b                                    0              11\n",
       "Stereo.?lithograph.*                       1              25\n",
       "\\bPBF\\b                                    1              12\n",
       "Powder Bed Fusion                         19              38\n",
       "\\bDED\\b                                    5              15\n",
       "Direct Ejection Deposition                 0               0\n",
       "\\bFDM\\b                                    4               7\n",
       "Fused deposition modeling                  5              10\n",
       "\\bFFF\\b                                    0               5\n",
       "Fused filament fabrication                 4               6\n",
       "total_npubs                              327             535"
      ]
     },
     "execution_count": 15,
     "metadata": {},
     "output_type": "execute_result"
    }
   ],
   "source": [
    "# 예전 기록.\n",
    "#technology_search_results['1-1. 금속 3D 프린팅(A-set)3']['npubs_contain_searchterms']"
   ]
  },
  {
   "cell_type": "code",
   "execution_count": 251,
   "id": "5a621a7c",
   "metadata": {},
   "outputs": [
    {
     "data": {
      "text/html": [
       "<div>\n",
       "<style scoped>\n",
       "    .dataframe tbody tr th:only-of-type {\n",
       "        vertical-align: middle;\n",
       "    }\n",
       "\n",
       "    .dataframe tbody tr th {\n",
       "        vertical-align: top;\n",
       "    }\n",
       "\n",
       "    .dataframe thead th {\n",
       "        text-align: right;\n",
       "    }\n",
       "</style>\n",
       "<table border=\"1\" class=\"dataframe\">\n",
       "  <thead>\n",
       "    <tr style=\"text-align: right;\">\n",
       "      <th></th>\n",
       "      <th>index</th>\n",
       "      <th>aukey_npubs</th>\n",
       "      <th>abstract_npubs</th>\n",
       "    </tr>\n",
       "  </thead>\n",
       "  <tbody>\n",
       "    <tr>\n",
       "      <th>0</th>\n",
       "      <td>\\b3d\\b(?:\\s+\\w+){0,4}\\s+metal\\b</td>\n",
       "      <td>504</td>\n",
       "      <td>3158</td>\n",
       "    </tr>\n",
       "    <tr>\n",
       "      <th>1</th>\n",
       "      <td>\\bmetal\\b(?:\\s+\\w+){0,4}\\s+3d\\b</td>\n",
       "      <td>389</td>\n",
       "      <td>857</td>\n",
       "    </tr>\n",
       "    <tr>\n",
       "      <th>2</th>\n",
       "      <td>total_npubs</td>\n",
       "      <td>875</td>\n",
       "      <td>3950</td>\n",
       "    </tr>\n",
       "    <tr>\n",
       "      <th>3</th>\n",
       "      <td>3D printing</td>\n",
       "      <td>18105</td>\n",
       "      <td>21294</td>\n",
       "    </tr>\n",
       "    <tr>\n",
       "      <th>4</th>\n",
       "      <td>Additive Manufacturing</td>\n",
       "      <td>22109</td>\n",
       "      <td>26175</td>\n",
       "    </tr>\n",
       "    <tr>\n",
       "      <th>5</th>\n",
       "      <td>Selective Laser Sintering</td>\n",
       "      <td>1095</td>\n",
       "      <td>1880</td>\n",
       "    </tr>\n",
       "    <tr>\n",
       "      <th>6</th>\n",
       "      <td>Selective Laser Melting</td>\n",
       "      <td>5284</td>\n",
       "      <td>6406</td>\n",
       "    </tr>\n",
       "    <tr>\n",
       "      <th>7</th>\n",
       "      <td>Powder Bed Fusion</td>\n",
       "      <td>4012</td>\n",
       "      <td>5611</td>\n",
       "    </tr>\n",
       "    <tr>\n",
       "      <th>8</th>\n",
       "      <td>Direct Energy Deposition</td>\n",
       "      <td>349</td>\n",
       "      <td>448</td>\n",
       "    </tr>\n",
       "    <tr>\n",
       "      <th>9</th>\n",
       "      <td>total_npubs</td>\n",
       "      <td>44163</td>\n",
       "      <td>52575</td>\n",
       "    </tr>\n",
       "    <tr>\n",
       "      <th>total_npubs</th>\n",
       "      <td>NaN</td>\n",
       "      <td>319</td>\n",
       "      <td>453</td>\n",
       "    </tr>\n",
       "  </tbody>\n",
       "</table>\n",
       "</div>"
      ],
      "text/plain": [
       "                                       index  aukey_npubs  abstract_npubs\n",
       "0            \\b3d\\b(?:\\s+\\w+){0,4}\\s+metal\\b          504            3158\n",
       "1            \\bmetal\\b(?:\\s+\\w+){0,4}\\s+3d\\b          389             857\n",
       "2                                total_npubs          875            3950\n",
       "3                                3D printing        18105           21294\n",
       "4                     Additive Manufacturing        22109           26175\n",
       "5                  Selective Laser Sintering         1095            1880\n",
       "6                    Selective Laser Melting         5284            6406\n",
       "7                          Powder Bed Fusion         4012            5611\n",
       "8                   Direct Energy Deposition          349             448\n",
       "9                                total_npubs        44163           52575\n",
       "total_npubs                              NaN          319             453"
      ]
     },
     "execution_count": 251,
     "metadata": {},
     "output_type": "execute_result"
    }
   ],
   "source": [
    "technology_search_results[technology]['npubs_contain_searchterms']"
   ]
  },
  {
   "cell_type": "code",
   "execution_count": 252,
   "id": "b5ad3cfa",
   "metadata": {},
   "outputs": [
    {
     "name": "stdout",
     "output_type": "stream",
     "text": [
      "technology = 1-1. 금속 3D 프린팅(A-set)gpt_smaller\n"
     ]
    }
   ],
   "source": [
    "print(f'technology = {technology}')"
   ]
  },
  {
   "cell_type": "code",
   "execution_count": 253,
   "id": "3de048e8",
   "metadata": {},
   "outputs": [
    {
     "data": {
      "text/plain": [
       "dict_keys(['1-1. 금속 3D 프린팅(A-set)gpt', '1-1. 금속 3D 프린팅(A-set)gpt_smaller'])"
      ]
     },
     "execution_count": 253,
     "metadata": {},
     "output_type": "execute_result"
    }
   ],
   "source": [
    "technology_search_results.keys()"
   ]
  },
  {
   "cell_type": "code",
   "execution_count": 254,
   "id": "6d2bb889",
   "metadata": {
    "id": "6d2bb889"
   },
   "outputs": [],
   "source": [
    "# 3차 검색식 입력\n",
    "search_texts_3rd = [\n",
    "    'Metal 3D Print.*', 'Direct Metal Printing', 'Direct Metal Laser Sintering', 'Direct Metal Laser Melting'\n",
    "]"
   ]
  },
  {
   "cell_type": "code",
   "execution_count": 255,
   "id": "ad7d731a",
   "metadata": {
    "id": "ad7d731a"
   },
   "outputs": [],
   "source": [
    "# OR단순검색식 탐색 함수 실행\n",
    "technology = '1-2. 금속 3D 프린팅(B-set)gpt'"
   ]
  },
  {
   "cell_type": "code",
   "execution_count": 256,
   "id": "0cba55e5",
   "metadata": {
    "colab": {
     "referenced_widgets": [
      "4549f657a22847638023919c0779ede8",
      "c0fc66ce975241cba2d308c4f84297ef"
     ]
    },
    "id": "0cba55e5",
    "outputId": "2d34d62c-0bae-4cda-cd8a-14227409b449"
   },
   "outputs": [
    {
     "data": {
      "application/vnd.jupyter.widget-view+json": {
       "model_id": "f5a3ed20e8db4e52a5d849ad9b282c53",
       "version_major": 2,
       "version_minor": 0
      },
      "text/plain": [
       "search_in_aukey for 1-2. 금속 3D 프린팅(B-set)gpt:   0%|          | 0/4 [00:00<?, ?it/s]"
      ]
     },
     "metadata": {},
     "output_type": "display_data"
    },
    {
     "data": {
      "application/vnd.jupyter.widget-view+json": {
       "model_id": "c5de3a30b1f84620b05a2a9773ebfba6",
       "version_major": 2,
       "version_minor": 0
      },
      "text/plain": [
       "search_in_abstract for 1-2. 금속 3D 프린팅(B-set)gpt:   0%|          | 0/4 [00:00<?, ?it/s]"
      ]
     },
     "metadata": {},
     "output_type": "display_data"
    }
   ],
   "source": [
    "technology_search_results = search_and_organize(technology, search_texts_3rd, selected_dataset_text , technology_search_results)"
   ]
  },
  {
   "cell_type": "code",
   "execution_count": 257,
   "id": "fbd62cc6",
   "metadata": {},
   "outputs": [
    {
     "data": {
      "text/html": [
       "<div>\n",
       "<style scoped>\n",
       "    .dataframe tbody tr th:only-of-type {\n",
       "        vertical-align: middle;\n",
       "    }\n",
       "\n",
       "    .dataframe tbody tr th {\n",
       "        vertical-align: top;\n",
       "    }\n",
       "\n",
       "    .dataframe thead th {\n",
       "        text-align: right;\n",
       "    }\n",
       "</style>\n",
       "<table border=\"1\" class=\"dataframe\">\n",
       "  <thead>\n",
       "    <tr style=\"text-align: right;\">\n",
       "      <th></th>\n",
       "      <th>aukey_npubs</th>\n",
       "      <th>abstract_npubs</th>\n",
       "    </tr>\n",
       "  </thead>\n",
       "  <tbody>\n",
       "    <tr>\n",
       "      <th>Metal 3D Print.*</th>\n",
       "      <td>98</td>\n",
       "      <td>194</td>\n",
       "    </tr>\n",
       "    <tr>\n",
       "      <th>Direct Metal Printing</th>\n",
       "      <td>12</td>\n",
       "      <td>19</td>\n",
       "    </tr>\n",
       "    <tr>\n",
       "      <th>Direct Metal Laser Sintering</th>\n",
       "      <td>271</td>\n",
       "      <td>565</td>\n",
       "    </tr>\n",
       "    <tr>\n",
       "      <th>Direct Metal Laser Melting</th>\n",
       "      <td>7</td>\n",
       "      <td>33</td>\n",
       "    </tr>\n",
       "    <tr>\n",
       "      <th>total_npubs</th>\n",
       "      <td>385</td>\n",
       "      <td>801</td>\n",
       "    </tr>\n",
       "  </tbody>\n",
       "</table>\n",
       "</div>"
      ],
      "text/plain": [
       "                              aukey_npubs  abstract_npubs\n",
       "Metal 3D Print.*                       98             194\n",
       "Direct Metal Printing                  12              19\n",
       "Direct Metal Laser Sintering          271             565\n",
       "Direct Metal Laser Melting              7              33\n",
       "total_npubs                           385             801"
      ]
     },
     "execution_count": 257,
     "metadata": {},
     "output_type": "execute_result"
    }
   ],
   "source": [
    "technology_search_results[technology]['npubs_contain_searchterms']"
   ]
  },
  {
   "cell_type": "code",
   "execution_count": 19,
   "id": "c502e30f",
   "metadata": {
    "id": "c502e30f",
    "outputId": "d01f153d-fd48-41ca-aa50-5cf4d7e55e2e",
    "scrolled": true
   },
   "outputs": [
    {
     "data": {
      "text/html": [
       "<div>\n",
       "<style scoped>\n",
       "    .dataframe tbody tr th:only-of-type {\n",
       "        vertical-align: middle;\n",
       "    }\n",
       "\n",
       "    .dataframe tbody tr th {\n",
       "        vertical-align: top;\n",
       "    }\n",
       "\n",
       "    .dataframe thead th {\n",
       "        text-align: right;\n",
       "    }\n",
       "</style>\n",
       "<table border=\"1\" class=\"dataframe\">\n",
       "  <thead>\n",
       "    <tr style=\"text-align: right;\">\n",
       "      <th></th>\n",
       "      <th>aukey_npubs</th>\n",
       "      <th>abstract_npubs</th>\n",
       "    </tr>\n",
       "  </thead>\n",
       "  <tbody>\n",
       "    <tr>\n",
       "      <th>\\bDMP\\b</th>\n",
       "      <td>310</td>\n",
       "      <td>4257</td>\n",
       "    </tr>\n",
       "    <tr>\n",
       "      <th>Direct Metal Printing</th>\n",
       "      <td>12</td>\n",
       "      <td>19</td>\n",
       "    </tr>\n",
       "    <tr>\n",
       "      <th>\\bDMLS\\b</th>\n",
       "      <td>185</td>\n",
       "      <td>620</td>\n",
       "    </tr>\n",
       "    <tr>\n",
       "      <th>Direct Metal Laser Sintering</th>\n",
       "      <td>271</td>\n",
       "      <td>565</td>\n",
       "    </tr>\n",
       "    <tr>\n",
       "      <th>\\bDMLM\\b</th>\n",
       "      <td>3</td>\n",
       "      <td>30</td>\n",
       "    </tr>\n",
       "    <tr>\n",
       "      <th>Direct Metal Laser Melting</th>\n",
       "      <td>7</td>\n",
       "      <td>33</td>\n",
       "    </tr>\n",
       "    <tr>\n",
       "      <th>total_npubs</th>\n",
       "      <td>706</td>\n",
       "      <td>5110</td>\n",
       "    </tr>\n",
       "  </tbody>\n",
       "</table>\n",
       "</div>"
      ],
      "text/plain": [
       "                              aukey_npubs  abstract_npubs\n",
       "\\bDMP\\b                               310            4257\n",
       "Direct Metal Printing                  12              19\n",
       "\\bDMLS\\b                              185             620\n",
       "Direct Metal Laser Sintering          271             565\n",
       "\\bDMLM\\b                                3              30\n",
       "Direct Metal Laser Melting              7              33\n",
       "total_npubs                           706            5110"
      ]
     },
     "execution_count": 19,
     "metadata": {},
     "output_type": "execute_result"
    }
   ],
   "source": [
    "# 예전 기록.\n",
    "#technology_search_results['1-2. 금속 3D 프린팅(B-set)']['npubs_contain_searchterms']"
   ]
  },
  {
   "cell_type": "code",
   "execution_count": 258,
   "id": "ae47d90a",
   "metadata": {},
   "outputs": [
    {
     "data": {
      "text/plain": [
       "dict"
      ]
     },
     "execution_count": 258,
     "metadata": {},
     "output_type": "execute_result"
    }
   ],
   "source": [
    "type(technology_search_results)"
   ]
  },
  {
   "cell_type": "code",
   "execution_count": 259,
   "id": "119053ee",
   "metadata": {},
   "outputs": [
    {
     "data": {
      "text/plain": [
       "dict_keys(['1-1. 금속 3D 프린팅(A-set)gpt', '1-1. 금속 3D 프린팅(A-set)gpt_smaller', '1-2. 금속 3D 프린팅(B-set)gpt'])"
      ]
     },
     "execution_count": 259,
     "metadata": {},
     "output_type": "execute_result"
    }
   ],
   "source": [
    "#중간 점검\n",
    "technology_search_results.keys()"
   ]
  },
  {
   "cell_type": "code",
   "execution_count": 260,
   "id": "d396d333",
   "metadata": {
    "scrolled": true
   },
   "outputs": [
    {
     "data": {
      "application/vnd.jupyter.widget-view+json": {
       "model_id": "10cb6785001c4268a45582a8c0a74116",
       "version_major": 2,
       "version_minor": 0
      },
      "text/plain": [
       "search_in_aukey for 7. 초대용량 데이터 대응 광통신 기술_gpt:   0%|          | 0/4 [00:00<?, ?it/s]"
      ]
     },
     "metadata": {},
     "output_type": "display_data"
    },
    {
     "data": {
      "application/vnd.jupyter.widget-view+json": {
       "model_id": "b44ad3695cd245d4bb12dd1f5f6aa61e",
       "version_major": 2,
       "version_minor": 0
      },
      "text/plain": [
       "search_in_abstract for 7. 초대용량 데이터 대응 광통신 기술_gpt:   0%|          | 0/4 [00:00<?, ?it/s]"
      ]
     },
     "metadata": {},
     "output_type": "display_data"
    },
    {
     "data": {
      "application/vnd.jupyter.widget-view+json": {
       "model_id": "4d4471dbe456454d8ed20a72c2329077",
       "version_major": 2,
       "version_minor": 0
      },
      "text/plain": [
       "search_in_aukey for 7. 초대용량 데이터 대응 광통신 기술_gpt:   0%|          | 0/19 [00:00<?, ?it/s]"
      ]
     },
     "metadata": {},
     "output_type": "display_data"
    },
    {
     "data": {
      "application/vnd.jupyter.widget-view+json": {
       "model_id": "f0d17db9dbd745c983833e4511fddc76",
       "version_major": 2,
       "version_minor": 0
      },
      "text/plain": [
       "search_in_abstract for 7. 초대용량 데이터 대응 광통신 기술_gpt:   0%|          | 0/19 [00:00<?, ?it/s]"
      ]
     },
     "metadata": {},
     "output_type": "display_data"
    }
   ],
   "source": [
    "# 7번 다시.\n",
    "# 기술명 선언\n",
    "technology = '7. 초대용량 데이터 대응 광통신 기술_gpt'\n",
    "# 7-gpt - AND 2개.\n",
    "search_text_groups = [\n",
    "    [\"high capacity data\", \"large capacity data\", \"optical communication\", \"optical transmission\"\n",
    "    ],\n",
    "    [\"Multicore fiber\", \"Multi core fiber\"\n",
    "      , r'\\bMCF\\b', \"multimode fiber\", \"multi mode fiber\"\n",
    "      , r'\\bFMF\\b', \"Few Mode Fiber\", \"FewMode Fiber\", \"Spatial Division Multiplexing\"\n",
    "      , r'\\bSDM\\b', \"Space Division Multiplexing\", \"Frequency Division Multiplexing\"\n",
    "      , r'\\bFDM\\b', \"Time Division Multiplexing\", r'\\bTDM\\b', \"Code Division Multiplexing\"\n",
    "      , r'\\bCDM\\b', \"Wavelength Division Multiplexing\", r'\\bWDM\\b'\n",
    "    ]\n",
    "]\n",
    "technology_search_results = search_and_organize_combined(technology, search_text_groups, selected_dataset_text, technology_search_results)\n"
   ]
  },
  {
   "cell_type": "code",
   "execution_count": 218,
   "id": "cb8d4770",
   "metadata": {},
   "outputs": [
    {
     "data": {
      "text/plain": [
       "'7. 초대용량 데이터 대응 광통신 기술_gpt'"
      ]
     },
     "execution_count": 218,
     "metadata": {},
     "output_type": "execute_result"
    }
   ],
   "source": [
    "technology"
   ]
  },
  {
   "cell_type": "code",
   "execution_count": 263,
   "id": "11b5b257",
   "metadata": {},
   "outputs": [
    {
     "name": "stdout",
     "output_type": "stream",
     "text": [
      "technology = 7. 초대용량 데이터 대응 광통신 기술_gpt\n",
      "                                        index  aukey_npubs  abstract_npubs\n",
      "0                          high capacity data            3              49\n",
      "1                         large capacity data            0              13\n",
      "2                       optical communication         4311            9800\n",
      "3                        optical transmission          892            6911\n",
      "4                                 total_npubs         5185           16614\n",
      "5                             Multicore fiber          312             629\n",
      "6                            Multi core fiber           10               5\n",
      "7                                     \\bMCF\\b         3874           40908\n",
      "8                             multimode fiber          518            2285\n",
      "9                            multi mode fiber            5              28\n",
      "10                                    \\bFMF\\b          340            2656\n",
      "11                             Few Mode Fiber           89             121\n",
      "12                              FewMode Fiber            1               5\n",
      "13              Spatial Division Multiplexing           86             154\n",
      "14                                    \\bSDM\\b          923            6372\n",
      "15                Space Division Multiplexing          354             364\n",
      "16            Frequency Division Multiplexing         2983            7627\n",
      "17                                    \\bFDM\\b         1682            6597\n",
      "18                 Time Division Multiplexing          295             512\n",
      "19                                    \\bTDM\\b          894            5091\n",
      "20                 Code Division Multiplexing          125             183\n",
      "21                                    \\bCDM\\b          758            8831\n",
      "22           Wavelength Division Multiplexing         1726            2876\n",
      "23                                    \\bWDM\\b         2380            5095\n",
      "24                                total_npubs        16107           86554\n",
      "total_npubs                               NaN          403             958\n"
     ]
    }
   ],
   "source": [
    "print(f'technology = {technology}')\n",
    "print(technology_search_results[technology]['npubs_contain_searchterms'])"
   ]
  },
  {
   "cell_type": "code",
   "execution_count": 164,
   "id": "ca58e10a",
   "metadata": {
    "collapsed": true
   },
   "outputs": [
    {
     "data": {
      "application/vnd.jupyter.widget-view+json": {
       "model_id": "18cd3fbe589d432da40f51b955181d4c",
       "version_major": 2,
       "version_minor": 0
      },
      "text/plain": [
       "search_in_aukey for 7. 초대용량 데이터 대응 광통신 기술_claude:   0%|          | 0/8 [00:00<?, ?it/s]"
      ]
     },
     "metadata": {},
     "output_type": "display_data"
    },
    {
     "data": {
      "application/vnd.jupyter.widget-view+json": {
       "model_id": "c96992e00765449bafaebb6d2f9a9268",
       "version_major": 2,
       "version_minor": 0
      },
      "text/plain": [
       "search_in_abstract for 7. 초대용량 데이터 대응 광통신 기술_claude:   0%|          | 0/8 [00:00<?, ?it/s]"
      ]
     },
     "metadata": {},
     "output_type": "display_data"
    },
    {
     "data": {
      "application/vnd.jupyter.widget-view+json": {
       "model_id": "268a24748853484a96b5b1584d3073d4",
       "version_major": 2,
       "version_minor": 0
      },
      "text/plain": [
       "search_in_aukey for 7. 초대용량 데이터 대응 광통신 기술_claude:   0%|          | 0/5 [00:00<?, ?it/s]"
      ]
     },
     "metadata": {},
     "output_type": "display_data"
    },
    {
     "data": {
      "application/vnd.jupyter.widget-view+json": {
       "model_id": "12d83c497a784d66828c52b82550d080",
       "version_major": 2,
       "version_minor": 0
      },
      "text/plain": [
       "search_in_abstract for 7. 초대용량 데이터 대응 광통신 기술_claude:   0%|          | 0/5 [00:00<?, ?it/s]"
      ]
     },
     "metadata": {},
     "output_type": "display_data"
    },
    {
     "data": {
      "application/vnd.jupyter.widget-view+json": {
       "model_id": "14aa07dabcd8431e9a284c9d1005edff",
       "version_major": 2,
       "version_minor": 0
      },
      "text/plain": [
       "search_in_aukey for 7. 초대용량 데이터 대응 광통신 기술_claude:   0%|          | 0/3 [00:00<?, ?it/s]"
      ]
     },
     "metadata": {},
     "output_type": "display_data"
    },
    {
     "data": {
      "application/vnd.jupyter.widget-view+json": {
       "model_id": "d132773e052a4af08e56841787b259b5",
       "version_major": 2,
       "version_minor": 0
      },
      "text/plain": [
       "search_in_abstract for 7. 초대용량 데이터 대응 광통신 기술_claude:   0%|          | 0/3 [00:00<?, ?it/s]"
      ]
     },
     "metadata": {},
     "output_type": "display_data"
    },
    {
     "data": {
      "application/vnd.jupyter.widget-view+json": {
       "model_id": "8129d6d151804deca6f1e6f9aeacf83b",
       "version_major": 2,
       "version_minor": 0
      },
      "text/plain": [
       "search_in_aukey for 7. 초대용량 데이터 대응 광통신 기술_claude:   0%|          | 0/2 [00:00<?, ?it/s]"
      ]
     },
     "metadata": {},
     "output_type": "display_data"
    },
    {
     "data": {
      "application/vnd.jupyter.widget-view+json": {
       "model_id": "913bf15fb232447ea71bd7d483383233",
       "version_major": 2,
       "version_minor": 0
      },
      "text/plain": [
       "search_in_abstract for 7. 초대용량 데이터 대응 광통신 기술_claude:   0%|          | 0/2 [00:00<?, ?it/s]"
      ]
     },
     "metadata": {},
     "output_type": "display_data"
    }
   ],
   "source": [
    "# # 기술명 선언\n",
    "# technology = '7. 초대용량 데이터 대응 광통신 기술_claude'\n",
    "# # 7-claude - AND 4개.\n",
    "# search_text_groups = [\n",
    "#     [r'\\bMCF\\b', \"Multicore fiber\", \"Multi core fiber\", \"multimode fiber\"\n",
    "#     , \"multi mode fiber\", r'\\bFMF\\b', \"Few Mode Fiber\", \"FewMode Fiber\"] \n",
    "#     ,  [\"Spacial Multiplexing\", r'\\bSM\\b', \"Spatial Division Multiplexing\"\n",
    "#         , r'b\\SDM\\b', \"Space Division Multiplexing\"] \n",
    "#     ,  [\"PAM-4\", \"pulse-amplitude modulation\", \"pulse amplitude modulation\"] \n",
    "#     ,  [r'\\bWDM\\b', \"Wavelength Division Multiplexing\"]\n",
    "# ]\n",
    "# technology_search_results = search_and_organize_combined(technology, search_text_groups, selected_dataset_text, technology_search_results)\n"
   ]
  },
  {
   "cell_type": "code",
   "execution_count": 166,
   "id": "c62c4e35",
   "metadata": {
    "collapsed": true
   },
   "outputs": [
    {
     "name": "stdout",
     "output_type": "stream",
     "text": [
      "technology = 7. 초대용량 데이터 대응 광통신 기술_claude\n",
      "                                        index  aukey_npubs  abstract_npubs\n",
      "0                                     \\bMCF\\b         3874           40908\n",
      "1                             Multicore fiber          312             629\n",
      "2                            Multi core fiber           10               5\n",
      "3                             multimode fiber          518            2285\n",
      "4                            multi mode fiber            5              28\n",
      "5                                     \\bFMF\\b          340            2656\n",
      "6                              Few Mode Fiber           89             121\n",
      "7                               FewMode Fiber            1               5\n",
      "8                                 total_npubs         5076           46247\n",
      "9                        Spacial Multiplexing            0               0\n",
      "10                                     \\bSM\\b         6552           52438\n",
      "11              Spatial Division Multiplexing           86             154\n",
      "12                                    b\\SDM\\b           59            1250\n",
      "13                Space Division Multiplexing          354             364\n",
      "14                                total_npubs         7047           54195\n",
      "15                                      PAM-4          167             560\n",
      "16                 pulse-amplitude modulation          108             277\n",
      "17                 pulse amplitude modulation          441            1212\n",
      "18                                total_npubs          633            1769\n",
      "19                                    \\bWDM\\b         2380            5095\n",
      "20           Wavelength Division Multiplexing         1726            2876\n",
      "21                                total_npubs         3583            6630\n",
      "total_npubs                               NaN            0               0\n"
     ]
    }
   ],
   "source": [
    "# print(f'technology = {technology}')\n",
    "# print(technology_search_results[technology]['combined_npubs_contain_searchterms'])"
   ]
  },
  {
   "cell_type": "code",
   "execution_count": null,
   "id": "e6d253a3",
   "metadata": {},
   "outputs": [],
   "source": [
    "# technology = 7. 초대용량 데이터 대응 광통신 기술_claude 검색식은 공집합."
   ]
  },
  {
   "cell_type": "code",
   "execution_count": null,
   "id": "dfcbe7e4",
   "metadata": {},
   "outputs": [],
   "source": []
  },
  {
   "cell_type": "code",
   "execution_count": 264,
   "id": "dd12c277",
   "metadata": {},
   "outputs": [
    {
     "data": {
      "text/plain": [
       "dict_keys(['1-1. 금속 3D 프린팅(A-set)gpt', '1-1. 금속 3D 프린팅(A-set)gpt_smaller', '1-2. 금속 3D 프린팅(B-set)gpt', '7. 초대용량 데이터 대응 광통신 기술_gpt'])"
      ]
     },
     "execution_count": 264,
     "metadata": {},
     "output_type": "execute_result"
    }
   ],
   "source": [
    "#중간 점검2\n",
    "technology_search_results.keys()"
   ]
  },
  {
   "cell_type": "code",
   "execution_count": null,
   "id": "9c636213",
   "metadata": {},
   "outputs": [],
   "source": []
  },
  {
   "cell_type": "code",
   "execution_count": null,
   "id": "4bc8bf9c",
   "metadata": {},
   "outputs": [],
   "source": []
  },
  {
   "cell_type": "code",
   "execution_count": null,
   "id": "ccb57945",
   "metadata": {
    "id": "ccb57945"
   },
   "outputs": [],
   "source": []
  },
  {
   "cell_type": "code",
   "execution_count": 265,
   "id": "586d406c",
   "metadata": {
    "id": "586d406c"
   },
   "outputs": [
    {
     "data": {
      "text/plain": [
       "dict_keys(['1-1. 금속 3D 프린팅(A-set)gpt', '1-1. 금속 3D 프린팅(A-set)gpt_smaller', '1-2. 금속 3D 프린팅(B-set)gpt', '7. 초대용량 데이터 대응 광통신 기술_gpt'])"
      ]
     },
     "execution_count": 265,
     "metadata": {},
     "output_type": "execute_result"
    }
   ],
   "source": [
    "#새로 뽑은 1,7만\n",
    "technology_search_results.keys()"
   ]
  },
  {
   "cell_type": "code",
   "execution_count": 169,
   "id": "6d8c8918",
   "metadata": {
    "id": "6d8c8918"
   },
   "outputs": [],
   "source": [
    "## 최종 파일 피클 저장 후 세부 내용 체크\n",
    "#df_technology_search_results = pd.DataFrame(technology_search_results)\n",
    "#df_technology_search_results.to_pickle('technology_search_results_2018top10_1,7_240603.pkl')"
   ]
  },
  {
   "cell_type": "code",
   "execution_count": 267,
   "id": "a531cd40",
   "metadata": {
    "id": "a531cd40",
    "outputId": "38c19ef4-0d08-4fd1-ea0a-6c016a8ef641"
   },
   "outputs": [
    {
     "data": {
      "text/html": [
       "<div>\n",
       "<style scoped>\n",
       "    .dataframe tbody tr th:only-of-type {\n",
       "        vertical-align: middle;\n",
       "    }\n",
       "\n",
       "    .dataframe tbody tr th {\n",
       "        vertical-align: top;\n",
       "    }\n",
       "\n",
       "    .dataframe thead th {\n",
       "        text-align: right;\n",
       "    }\n",
       "</style>\n",
       "<table border=\"1\" class=\"dataframe\">\n",
       "  <thead>\n",
       "    <tr style=\"text-align: right;\">\n",
       "      <th></th>\n",
       "      <th>1-1. 금속 3D 프린팅(A-set)gpt</th>\n",
       "      <th>1-2. 금속 3D 프린팅(B-set)gpt</th>\n",
       "      <th>1-1. 금속 3D 프린팅(A-set)gpt_smaller</th>\n",
       "      <th>7. 초대용량 데이터 대응 광통신 기술_gpt</th>\n",
       "    </tr>\n",
       "  </thead>\n",
       "  <tbody>\n",
       "    <tr>\n",
       "      <th>concatenated_results</th>\n",
       "      <td>uid  pubyear  \\\n",
       "0     WO...</td>\n",
       "      <td>uid  pubyear  \\\n",
       "0    WOS:...</td>\n",
       "      <td>uid  pubyear  \\\n",
       "0    WOS:...</td>\n",
       "      <td>uid  pubyear  \\\n",
       "0    WOS:...</td>\n",
       "    </tr>\n",
       "    <tr>\n",
       "      <th>concatenated_results_abs</th>\n",
       "      <td>uid  pubyear  \\\n",
       "0     WO...</td>\n",
       "      <td>uid  pubyear  \\\n",
       "0    WOS:...</td>\n",
       "      <td>uid  pubyear  \\\n",
       "0    WOS:...</td>\n",
       "      <td>uid  pubyear  \\\n",
       "0    WOS:...</td>\n",
       "    </tr>\n",
       "    <tr>\n",
       "      <th>npubs_contain_searchterms</th>\n",
       "      <td>aukey_npubs  abstra...</td>\n",
       "      <td>aukey_npubs  abs...</td>\n",
       "      <td>aukey_npubs  ...</td>\n",
       "      <td>index ...</td>\n",
       "    </tr>\n",
       "  </tbody>\n",
       "</table>\n",
       "</div>"
      ],
      "text/plain": [
       "                                                    1-1. 금속 3D 프린팅(A-set)gpt  \\\n",
       "concatenated_results                             uid  pubyear  \\\n",
       "0     WO...   \n",
       "concatenated_results_abs                         uid  pubyear  \\\n",
       "0     WO...   \n",
       "npubs_contain_searchterms                             aukey_npubs  abstra...   \n",
       "\n",
       "                                                    1-2. 금속 3D 프린팅(B-set)gpt  \\\n",
       "concatenated_results                            uid  pubyear  \\\n",
       "0    WOS:...   \n",
       "concatenated_results_abs                        uid  pubyear  \\\n",
       "0    WOS:...   \n",
       "npubs_contain_searchterms                                aukey_npubs  abs...   \n",
       "\n",
       "                                            1-1. 금속 3D 프린팅(A-set)gpt_smaller  \\\n",
       "concatenated_results                            uid  pubyear  \\\n",
       "0    WOS:...   \n",
       "concatenated_results_abs                        uid  pubyear  \\\n",
       "0    WOS:...   \n",
       "npubs_contain_searchterms                                   aukey_npubs  ...   \n",
       "\n",
       "                                                   7. 초대용량 데이터 대응 광통신 기술_gpt  \n",
       "concatenated_results                            uid  pubyear  \\\n",
       "0    WOS:...  \n",
       "concatenated_results_abs                        uid  pubyear  \\\n",
       "0    WOS:...  \n",
       "npubs_contain_searchterms                                          index ...  "
      ]
     },
     "execution_count": 267,
     "metadata": {},
     "output_type": "execute_result"
    }
   ],
   "source": [
    "df_technology_search_results"
   ]
  },
  {
   "cell_type": "code",
   "execution_count": 268,
   "id": "6013dbdf",
   "metadata": {},
   "outputs": [
    {
     "data": {
      "text/plain": [
       "Index(['concatenated_results', 'concatenated_results_abs',\n",
       "       'npubs_contain_searchterms'],\n",
       "      dtype='object')"
      ]
     },
     "execution_count": 268,
     "metadata": {},
     "output_type": "execute_result"
    }
   ],
   "source": [
    "df_technology_search_results.index"
   ]
  },
  {
   "cell_type": "code",
   "execution_count": 269,
   "id": "ee18cb7b",
   "metadata": {},
   "outputs": [
    {
     "data": {
      "text/plain": [
       "Index(['1-1. 금속 3D 프린팅(A-set)gpt', '1-2. 금속 3D 프린팅(B-set)gpt',\n",
       "       '1-1. 금속 3D 프린팅(A-set)gpt_smaller', '7. 초대용량 데이터 대응 광통신 기술_gpt'],\n",
       "      dtype='object')"
      ]
     },
     "execution_count": 269,
     "metadata": {},
     "output_type": "execute_result"
    }
   ],
   "source": [
    "df_technology_search_results.columns"
   ]
  },
  {
   "cell_type": "code",
   "execution_count": null,
   "id": "78adf13d",
   "metadata": {
    "id": "78adf13d"
   },
   "outputs": [],
   "source": [
    "# 뽑힌 데이터 저장\n",
    "# 데이터 저장을 위한 데스트 작업 먼저"
   ]
  },
  {
   "cell_type": "code",
   "execution_count": 207,
   "id": "99b9c379",
   "metadata": {
    "id": "99b9c379"
   },
   "outputs": [],
   "source": [
    "techs = sorted(list(df_technology_search_results.columns))"
   ]
  },
  {
   "cell_type": "code",
   "execution_count": 208,
   "id": "0b5f4d2c",
   "metadata": {},
   "outputs": [
    {
     "data": {
      "text/plain": [
       "['1-1. 금속 3D 프린팅(A-set)gpt',\n",
       " '1-1. 금속 3D 프린팅(A-set)gpt_smaller',\n",
       " '1-2. 금속 3D 프린팅(B-set)gpt',\n",
       " '7. 초대용량 데이터 대응 광통신 기술_gpt']"
      ]
     },
     "execution_count": 208,
     "metadata": {},
     "output_type": "execute_result"
    }
   ],
   "source": [
    "techs"
   ]
  },
  {
   "cell_type": "code",
   "execution_count": 276,
   "id": "93886d89",
   "metadata": {
    "collapsed": true
   },
   "outputs": [
    {
     "data": {
      "text/html": [
       "<div>\n",
       "<style scoped>\n",
       "    .dataframe tbody tr th:only-of-type {\n",
       "        vertical-align: middle;\n",
       "    }\n",
       "\n",
       "    .dataframe tbody tr th {\n",
       "        vertical-align: top;\n",
       "    }\n",
       "\n",
       "    .dataframe thead th {\n",
       "        text-align: right;\n",
       "    }\n",
       "</style>\n",
       "<table border=\"1\" class=\"dataframe\">\n",
       "  <thead>\n",
       "    <tr style=\"text-align: right;\">\n",
       "      <th></th>\n",
       "      <th>uid</th>\n",
       "      <th>pubyear</th>\n",
       "      <th>item</th>\n",
       "      <th>aukey</th>\n",
       "      <th>abstract</th>\n",
       "      <th>aukey_modified</th>\n",
       "    </tr>\n",
       "  </thead>\n",
       "  <tbody>\n",
       "    <tr>\n",
       "      <th>0</th>\n",
       "      <td>WOS:000234519300006</td>\n",
       "      <td>2006</td>\n",
       "      <td>An approach to minimize build errors in direct...</td>\n",
       "      <td>compensation method (SC);dexel;direct metal la...</td>\n",
       "      <td>This paper discusses the effect of geometric s...</td>\n",
       "      <td>compensation method (SC) dexel direct metal la...</td>\n",
       "    </tr>\n",
       "    <tr>\n",
       "      <th>1</th>\n",
       "      <td>WOS:000237339000021</td>\n",
       "      <td>2006</td>\n",
       "      <td>Microstructure and property of sub-micro WC-10...</td>\n",
       "      <td>selective laser sintering;metal matrix composi...</td>\n",
       "      <td>The WC-10%Co particulate reinforced Cu matrix ...</td>\n",
       "      <td>selective laser sintering metal matrix composi...</td>\n",
       "    </tr>\n",
       "    <tr>\n",
       "      <th>2</th>\n",
       "      <td>WOS:000240623800068</td>\n",
       "      <td>2006</td>\n",
       "      <td>Microstructure of the WC-10%Co particulate rei...</td>\n",
       "      <td>selective laser sintering;metal matrix composi...</td>\n",
       "      <td>The WC-10%Co particulate reinforced Cu matrix ...</td>\n",
       "      <td>selective laser sintering metal matrix composi...</td>\n",
       "    </tr>\n",
       "    <tr>\n",
       "      <th>3</th>\n",
       "      <td>WOS:000248201800031</td>\n",
       "      <td>2007</td>\n",
       "      <td>Porous 316 stainless steel of lotus root-shape...</td>\n",
       "      <td>316 stainless steel;lotus-root-shape porous me...</td>\n",
       "      <td>The basic principle and processes of a new fab...</td>\n",
       "      <td>316 stainless steel lotus-root-shape porous me...</td>\n",
       "    </tr>\n",
       "    <tr>\n",
       "      <th>4</th>\n",
       "      <td>WOS:000250155600006</td>\n",
       "      <td>2007</td>\n",
       "      <td>An experimental determination of optimum proce...</td>\n",
       "      <td>additive manufacturing;ultrasonic consolidatio...</td>\n",
       "      <td>Ultrasonic consolidation, an emerging additive...</td>\n",
       "      <td>additive manufacturing ultrasonic consolidatio...</td>\n",
       "    </tr>\n",
       "    <tr>\n",
       "      <th>...</th>\n",
       "      <td>...</td>\n",
       "      <td>...</td>\n",
       "      <td>...</td>\n",
       "      <td>...</td>\n",
       "      <td>...</td>\n",
       "      <td>...</td>\n",
       "    </tr>\n",
       "    <tr>\n",
       "      <th>2163</th>\n",
       "      <td>WOS:000922172000007</td>\n",
       "      <td>2023</td>\n",
       "      <td>Evaluation of fabrication parameters for foam ...</td>\n",
       "      <td>Additive manufacturing;Directed energy deposit...</td>\n",
       "      <td>Directed energy deposition (DED), a metal addi...</td>\n",
       "      <td>Additive manufacturing Directed energy deposit...</td>\n",
       "    </tr>\n",
       "    <tr>\n",
       "      <th>2164</th>\n",
       "      <td>WOS:000995867700001</td>\n",
       "      <td>2023</td>\n",
       "      <td>A drug-loaded composite coating to improve ost...</td>\n",
       "      <td>Additive manufacturing;Biodegradable metal;Zn ...</td>\n",
       "      <td>Zinc (Zn) alloy porous scaffolds produced by a...</td>\n",
       "      <td>Additive manufacturing Biodegradable metal Zn ...</td>\n",
       "    </tr>\n",
       "    <tr>\n",
       "      <th>2165</th>\n",
       "      <td>WOS:001100909900001</td>\n",
       "      <td>2023</td>\n",
       "      <td>Evaluation of computationally optimized design...</td>\n",
       "      <td>Design for additive manufacturing;Cost-benefit...</td>\n",
       "      <td>The additive manufacturing industry requires e...</td>\n",
       "      <td>Design for additive manufacturing Cost-benefit...</td>\n",
       "    </tr>\n",
       "    <tr>\n",
       "      <th>2166</th>\n",
       "      <td>WOS:001022815400001</td>\n",
       "      <td>2023</td>\n",
       "      <td>In-situ porosity prediction in metal powder be...</td>\n",
       "      <td>Prior-guided neural network;Machine learning;S...</td>\n",
       "      <td>Numerous efforts in the additive manufacturing...</td>\n",
       "      <td>Prior-guided neural network Machine learning S...</td>\n",
       "    </tr>\n",
       "    <tr>\n",
       "      <th>2167</th>\n",
       "      <td>WOS:001163015300025</td>\n",
       "      <td>2023</td>\n",
       "      <td>Powder Bed Monitoring Using Semantic Image Seg...</td>\n",
       "      <td>additive manufacturing;metal printing;neural n...</td>\n",
       "      <td>Monitoring the metal Additive Manufacturing (A...</td>\n",
       "      <td>additive manufacturing metal printing neural n...</td>\n",
       "    </tr>\n",
       "  </tbody>\n",
       "</table>\n",
       "<p>2168 rows × 6 columns</p>\n",
       "</div>"
      ],
      "text/plain": [
       "                      uid  pubyear  \\\n",
       "0     WOS:000234519300006     2006   \n",
       "1     WOS:000237339000021     2006   \n",
       "2     WOS:000240623800068     2006   \n",
       "3     WOS:000248201800031     2007   \n",
       "4     WOS:000250155600006     2007   \n",
       "...                   ...      ...   \n",
       "2163  WOS:000922172000007     2023   \n",
       "2164  WOS:000995867700001     2023   \n",
       "2165  WOS:001100909900001     2023   \n",
       "2166  WOS:001022815400001     2023   \n",
       "2167  WOS:001163015300025     2023   \n",
       "\n",
       "                                                   item  \\\n",
       "0     An approach to minimize build errors in direct...   \n",
       "1     Microstructure and property of sub-micro WC-10...   \n",
       "2     Microstructure of the WC-10%Co particulate rei...   \n",
       "3     Porous 316 stainless steel of lotus root-shape...   \n",
       "4     An experimental determination of optimum proce...   \n",
       "...                                                 ...   \n",
       "2163  Evaluation of fabrication parameters for foam ...   \n",
       "2164  A drug-loaded composite coating to improve ost...   \n",
       "2165  Evaluation of computationally optimized design...   \n",
       "2166  In-situ porosity prediction in metal powder be...   \n",
       "2167  Powder Bed Monitoring Using Semantic Image Seg...   \n",
       "\n",
       "                                                  aukey  \\\n",
       "0     compensation method (SC);dexel;direct metal la...   \n",
       "1     selective laser sintering;metal matrix composi...   \n",
       "2     selective laser sintering;metal matrix composi...   \n",
       "3     316 stainless steel;lotus-root-shape porous me...   \n",
       "4     additive manufacturing;ultrasonic consolidatio...   \n",
       "...                                                 ...   \n",
       "2163  Additive manufacturing;Directed energy deposit...   \n",
       "2164  Additive manufacturing;Biodegradable metal;Zn ...   \n",
       "2165  Design for additive manufacturing;Cost-benefit...   \n",
       "2166  Prior-guided neural network;Machine learning;S...   \n",
       "2167  additive manufacturing;metal printing;neural n...   \n",
       "\n",
       "                                               abstract  \\\n",
       "0     This paper discusses the effect of geometric s...   \n",
       "1     The WC-10%Co particulate reinforced Cu matrix ...   \n",
       "2     The WC-10%Co particulate reinforced Cu matrix ...   \n",
       "3     The basic principle and processes of a new fab...   \n",
       "4     Ultrasonic consolidation, an emerging additive...   \n",
       "...                                                 ...   \n",
       "2163  Directed energy deposition (DED), a metal addi...   \n",
       "2164  Zinc (Zn) alloy porous scaffolds produced by a...   \n",
       "2165  The additive manufacturing industry requires e...   \n",
       "2166  Numerous efforts in the additive manufacturing...   \n",
       "2167  Monitoring the metal Additive Manufacturing (A...   \n",
       "\n",
       "                                         aukey_modified  \n",
       "0     compensation method (SC) dexel direct metal la...  \n",
       "1     selective laser sintering metal matrix composi...  \n",
       "2     selective laser sintering metal matrix composi...  \n",
       "3     316 stainless steel lotus-root-shape porous me...  \n",
       "4     additive manufacturing ultrasonic consolidatio...  \n",
       "...                                                 ...  \n",
       "2163  Additive manufacturing Directed energy deposit...  \n",
       "2164  Additive manufacturing Biodegradable metal Zn ...  \n",
       "2165  Design for additive manufacturing Cost-benefit...  \n",
       "2166  Prior-guided neural network Machine learning S...  \n",
       "2167  additive manufacturing metal printing neural n...  \n",
       "\n",
       "[2168 rows x 6 columns]"
      ]
     },
     "execution_count": 276,
     "metadata": {},
     "output_type": "execute_result"
    }
   ],
   "source": [
    "technology_search_results['1-1. 금속 3D 프린팅(A-set)gpt']['concatenated_results']"
   ]
  },
  {
   "cell_type": "code",
   "execution_count": 195,
   "id": "3b009996",
   "metadata": {},
   "outputs": [],
   "source": [
    "# tech의 특수문자 처리 함수\n",
    "import re\n",
    "\n",
    "def sanitize_filename(name):\n",
    "    return re.sub(r'[\\/:*?\"<>|]', '_', name)"
   ]
  },
  {
   "cell_type": "code",
   "execution_count": 277,
   "id": "9eba287d",
   "metadata": {},
   "outputs": [
    {
     "name": "stdout",
     "output_type": "stream",
     "text": [
      "1-1. 금속 3D 프린팅(A-set)gpt\n",
      "1-1. 금속 3D 프린팅(A-set)gpt_smaller\n",
      "1-2. 금속 3D 프린팅(B-set)gpt\n",
      "7. 초대용량 데이터 대응 광통신 기술_gpt\n"
     ]
    }
   ],
   "source": [
    "import os\n",
    "\n",
    "for tech in techs:\n",
    "    safe_tech = sanitize_filename(tech)  # 파일 이름을 안전하게 변환\n",
    "    print(safe_tech)\n",
    "    base_path = 'F:/cluster_test_2024/search_results_2024-06-04'\n",
    "    os.makedirs(base_path, exist_ok=True)  # 폴더가 없으면 생성\n",
    "\n",
    "    technology_search_results[tech]['concatenated_results'].to_csv(\n",
    "        os.path.join(base_path, f'{safe_tech}_search_results_from_aukey.csv')\n",
    "    )\n",
    "    technology_search_results[tech]['concatenated_results_abs'].to_csv(\n",
    "        os.path.join(base_path, f'{safe_tech}_search_results_from_abstract.csv')\n",
    "    )\n",
    "    technology_search_results[tech]['npubs_contain_searchterms'].to_csv(\n",
    "        os.path.join(base_path, f'{safe_tech}_npubs_contain_searchterms.csv')\n",
    "    )\n"
   ]
  },
  {
   "cell_type": "code",
   "execution_count": 281,
   "id": "a5027e1b",
   "metadata": {},
   "outputs": [
    {
     "data": {
      "text/html": [
       "<div>\n",
       "<style scoped>\n",
       "    .dataframe tbody tr th:only-of-type {\n",
       "        vertical-align: middle;\n",
       "    }\n",
       "\n",
       "    .dataframe tbody tr th {\n",
       "        vertical-align: top;\n",
       "    }\n",
       "\n",
       "    .dataframe thead th {\n",
       "        text-align: right;\n",
       "    }\n",
       "</style>\n",
       "<table border=\"1\" class=\"dataframe\">\n",
       "  <thead>\n",
       "    <tr style=\"text-align: right;\">\n",
       "      <th></th>\n",
       "      <th>index</th>\n",
       "      <th>aukey_npubs</th>\n",
       "      <th>abstract_npubs</th>\n",
       "    </tr>\n",
       "  </thead>\n",
       "  <tbody>\n",
       "    <tr>\n",
       "      <th>0</th>\n",
       "      <td>high capacity data</td>\n",
       "      <td>3</td>\n",
       "      <td>49</td>\n",
       "    </tr>\n",
       "    <tr>\n",
       "      <th>1</th>\n",
       "      <td>large capacity data</td>\n",
       "      <td>0</td>\n",
       "      <td>13</td>\n",
       "    </tr>\n",
       "    <tr>\n",
       "      <th>2</th>\n",
       "      <td>optical communication</td>\n",
       "      <td>4311</td>\n",
       "      <td>9800</td>\n",
       "    </tr>\n",
       "    <tr>\n",
       "      <th>3</th>\n",
       "      <td>optical transmission</td>\n",
       "      <td>892</td>\n",
       "      <td>6911</td>\n",
       "    </tr>\n",
       "    <tr>\n",
       "      <th>4</th>\n",
       "      <td>total_npubs</td>\n",
       "      <td>5185</td>\n",
       "      <td>16614</td>\n",
       "    </tr>\n",
       "    <tr>\n",
       "      <th>5</th>\n",
       "      <td>Multicore fiber</td>\n",
       "      <td>312</td>\n",
       "      <td>629</td>\n",
       "    </tr>\n",
       "    <tr>\n",
       "      <th>6</th>\n",
       "      <td>Multi core fiber</td>\n",
       "      <td>10</td>\n",
       "      <td>5</td>\n",
       "    </tr>\n",
       "    <tr>\n",
       "      <th>7</th>\n",
       "      <td>\\bMCF\\b</td>\n",
       "      <td>3874</td>\n",
       "      <td>40908</td>\n",
       "    </tr>\n",
       "    <tr>\n",
       "      <th>8</th>\n",
       "      <td>multimode fiber</td>\n",
       "      <td>518</td>\n",
       "      <td>2285</td>\n",
       "    </tr>\n",
       "    <tr>\n",
       "      <th>9</th>\n",
       "      <td>multi mode fiber</td>\n",
       "      <td>5</td>\n",
       "      <td>28</td>\n",
       "    </tr>\n",
       "    <tr>\n",
       "      <th>10</th>\n",
       "      <td>\\bFMF\\b</td>\n",
       "      <td>340</td>\n",
       "      <td>2656</td>\n",
       "    </tr>\n",
       "    <tr>\n",
       "      <th>11</th>\n",
       "      <td>Few Mode Fiber</td>\n",
       "      <td>89</td>\n",
       "      <td>121</td>\n",
       "    </tr>\n",
       "    <tr>\n",
       "      <th>12</th>\n",
       "      <td>FewMode Fiber</td>\n",
       "      <td>1</td>\n",
       "      <td>5</td>\n",
       "    </tr>\n",
       "    <tr>\n",
       "      <th>13</th>\n",
       "      <td>Spatial Division Multiplexing</td>\n",
       "      <td>86</td>\n",
       "      <td>154</td>\n",
       "    </tr>\n",
       "    <tr>\n",
       "      <th>14</th>\n",
       "      <td>\\bSDM\\b</td>\n",
       "      <td>923</td>\n",
       "      <td>6372</td>\n",
       "    </tr>\n",
       "    <tr>\n",
       "      <th>15</th>\n",
       "      <td>Space Division Multiplexing</td>\n",
       "      <td>354</td>\n",
       "      <td>364</td>\n",
       "    </tr>\n",
       "    <tr>\n",
       "      <th>16</th>\n",
       "      <td>Frequency Division Multiplexing</td>\n",
       "      <td>2983</td>\n",
       "      <td>7627</td>\n",
       "    </tr>\n",
       "    <tr>\n",
       "      <th>17</th>\n",
       "      <td>\\bFDM\\b</td>\n",
       "      <td>1682</td>\n",
       "      <td>6597</td>\n",
       "    </tr>\n",
       "    <tr>\n",
       "      <th>18</th>\n",
       "      <td>Time Division Multiplexing</td>\n",
       "      <td>295</td>\n",
       "      <td>512</td>\n",
       "    </tr>\n",
       "    <tr>\n",
       "      <th>19</th>\n",
       "      <td>\\bTDM\\b</td>\n",
       "      <td>894</td>\n",
       "      <td>5091</td>\n",
       "    </tr>\n",
       "    <tr>\n",
       "      <th>20</th>\n",
       "      <td>Code Division Multiplexing</td>\n",
       "      <td>125</td>\n",
       "      <td>183</td>\n",
       "    </tr>\n",
       "    <tr>\n",
       "      <th>21</th>\n",
       "      <td>\\bCDM\\b</td>\n",
       "      <td>758</td>\n",
       "      <td>8831</td>\n",
       "    </tr>\n",
       "    <tr>\n",
       "      <th>22</th>\n",
       "      <td>Wavelength Division Multiplexing</td>\n",
       "      <td>1726</td>\n",
       "      <td>2876</td>\n",
       "    </tr>\n",
       "    <tr>\n",
       "      <th>23</th>\n",
       "      <td>\\bWDM\\b</td>\n",
       "      <td>2380</td>\n",
       "      <td>5095</td>\n",
       "    </tr>\n",
       "    <tr>\n",
       "      <th>24</th>\n",
       "      <td>total_npubs</td>\n",
       "      <td>16107</td>\n",
       "      <td>86554</td>\n",
       "    </tr>\n",
       "    <tr>\n",
       "      <th>total_npubs</th>\n",
       "      <td>NaN</td>\n",
       "      <td>403</td>\n",
       "      <td>958</td>\n",
       "    </tr>\n",
       "  </tbody>\n",
       "</table>\n",
       "</div>"
      ],
      "text/plain": [
       "                                        index  aukey_npubs  abstract_npubs\n",
       "0                          high capacity data            3              49\n",
       "1                         large capacity data            0              13\n",
       "2                       optical communication         4311            9800\n",
       "3                        optical transmission          892            6911\n",
       "4                                 total_npubs         5185           16614\n",
       "5                             Multicore fiber          312             629\n",
       "6                            Multi core fiber           10               5\n",
       "7                                     \\bMCF\\b         3874           40908\n",
       "8                             multimode fiber          518            2285\n",
       "9                            multi mode fiber            5              28\n",
       "10                                    \\bFMF\\b          340            2656\n",
       "11                             Few Mode Fiber           89             121\n",
       "12                              FewMode Fiber            1               5\n",
       "13              Spatial Division Multiplexing           86             154\n",
       "14                                    \\bSDM\\b          923            6372\n",
       "15                Space Division Multiplexing          354             364\n",
       "16            Frequency Division Multiplexing         2983            7627\n",
       "17                                    \\bFDM\\b         1682            6597\n",
       "18                 Time Division Multiplexing          295             512\n",
       "19                                    \\bTDM\\b          894            5091\n",
       "20                 Code Division Multiplexing          125             183\n",
       "21                                    \\bCDM\\b          758            8831\n",
       "22           Wavelength Division Multiplexing         1726            2876\n",
       "23                                    \\bWDM\\b         2380            5095\n",
       "24                                total_npubs        16107           86554\n",
       "total_npubs                               NaN          403             958"
      ]
     },
     "execution_count": 281,
     "metadata": {},
     "output_type": "execute_result"
    }
   ],
   "source": [
    "technology_search_results[tech]['npubs_contain_searchterms']"
   ]
  },
  {
   "cell_type": "code",
   "execution_count": 279,
   "id": "60088225",
   "metadata": {
    "id": "60088225"
   },
   "outputs": [],
   "source": [
    "termlist =  list(technology_search_results[tech]['npubs_contain_searchterms'].index)"
   ]
  },
  {
   "cell_type": "code",
   "execution_count": 54,
   "id": "7cfd2552",
   "metadata": {
    "id": "7cfd2552"
   },
   "outputs": [],
   "source": [
    "df = technology_search_results[tech]['concatenated_results']"
   ]
  },
  {
   "cell_type": "code",
   "execution_count": 65,
   "id": "c0493d69",
   "metadata": {
    "colab": {
     "referenced_widgets": [
      "c757f353843a4f4e9dfae0f77d193c2b",
      "94dfeb77820a45e383f9277727aa7921",
      "79ba6bb6a7e6418aabece79e259c1660",
      "6542c6b66e254c9db9c67bcb0ea10392",
      "76885b5ae206440c96d1ef2e0b1de9c8",
      "01905899c4e842c5817222e5331802ba",
      "edc2990605aa4bf8b483925c35cbbc79",
      "928bae2886114faea7e28a392e9fc871",
      "8766d8a642f647b997be098ab33f8678",
      "7e57540e2ac8414eba84cd0afa3621cc",
      "02e221d64f6143a0b967296c29e2bb1a",
      "a937e0249ca3428bad6a021e496688ac",
      "13a2bc3180ac426ebe50aad42ec90974",
      "fa3355c64858437a8d701eebcc2d6552",
      "f54823361e324d4398da3329df7e4ab6"
     ]
    },
    "id": "c0493d69",
    "outputId": "52c11fbd-f3fb-4039-903a-fa74acffe31b"
   },
   "outputs": [
    {
     "data": {
      "application/vnd.jupyter.widget-view+json": {
       "model_id": "ec72a68b0d16432c80cfbd60754eca40",
       "version_major": 2,
       "version_minor": 0
      },
      "text/plain": [
       "processing tech 9. 나노유체 이용 에너지 효율화:   0%|          | 0/11 [00:00<?, ?it/s]"
      ]
     },
     "metadata": {},
     "output_type": "display_data"
    },
    {
     "name": "stdout",
     "output_type": "stream",
     "text": [
      "1-1. 금속 3D 프린팅(A-set)3\n"
     ]
    },
    {
     "data": {
      "application/vnd.jupyter.widget-view+json": {
       "model_id": "946767690db14d94a27e6bc68318ddc4",
       "version_major": 2,
       "version_minor": 0
      },
      "text/plain": [
       "search terms in aukey:   0%|          | 0/23 [00:00<?, ?it/s]"
      ]
     },
     "metadata": {},
     "output_type": "display_data"
    },
    {
     "data": {
      "application/vnd.jupyter.widget-view+json": {
       "model_id": "2f86209f549c45a788f92507949b0c94",
       "version_major": 2,
       "version_minor": 0
      },
      "text/plain": [
       "search terms in abstract:   0%|          | 0/23 [00:00<?, ?it/s]"
      ]
     },
     "metadata": {},
     "output_type": "display_data"
    },
    {
     "name": "stdout",
     "output_type": "stream",
     "text": [
      "1-1. 금속 3D 프린팅(A-set)3\n",
      "1-2. 금속 3D 프린팅(B-set)\n"
     ]
    },
    {
     "data": {
      "application/vnd.jupyter.widget-view+json": {
       "model_id": "8b531d74733a45548129a786d9cc3db0",
       "version_major": 2,
       "version_minor": 0
      },
      "text/plain": [
       "search terms in aukey:   0%|          | 0/7 [00:00<?, ?it/s]"
      ]
     },
     "metadata": {},
     "output_type": "display_data"
    },
    {
     "data": {
      "application/vnd.jupyter.widget-view+json": {
       "model_id": "be210da207c04f7f8192ed4d970eadfd",
       "version_major": 2,
       "version_minor": 0
      },
      "text/plain": [
       "search terms in abstract:   0%|          | 0/7 [00:00<?, ?it/s]"
      ]
     },
     "metadata": {},
     "output_type": "display_data"
    },
    {
     "name": "stdout",
     "output_type": "stream",
     "text": [
      "1-2. 금속 3D 프린팅(B-set)\n",
      "10. 상변화 소재 활용 열에너지 저장\n"
     ]
    },
    {
     "data": {
      "application/vnd.jupyter.widget-view+json": {
       "model_id": "67497280320a4c9faabdf387b35b946c",
       "version_major": 2,
       "version_minor": 0
      },
      "text/plain": [
       "search terms in aukey:   0%|          | 0/3 [00:00<?, ?it/s]"
      ]
     },
     "metadata": {},
     "output_type": "display_data"
    },
    {
     "data": {
      "application/vnd.jupyter.widget-view+json": {
       "model_id": "c36f9099d4d940bb9ca762692dfec02c",
       "version_major": 2,
       "version_minor": 0
      },
      "text/plain": [
       "search terms in abstract:   0%|          | 0/3 [00:00<?, ?it/s]"
      ]
     },
     "metadata": {},
     "output_type": "display_data"
    },
    {
     "name": "stdout",
     "output_type": "stream",
     "text": [
      "10. 상변화 소재 활용 열에너지 저장\n",
      "2. 신축성 전자소자\n"
     ]
    },
    {
     "data": {
      "application/vnd.jupyter.widget-view+json": {
       "model_id": "d7d9afcc92944932b7303bd94688c560",
       "version_major": 2,
       "version_minor": 0
      },
      "text/plain": [
       "search terms in aukey:   0%|          | 0/12 [00:00<?, ?it/s]"
      ]
     },
     "metadata": {},
     "output_type": "display_data"
    },
    {
     "data": {
      "application/vnd.jupyter.widget-view+json": {
       "model_id": "35c351efb72d41c395eeed25645320d0",
       "version_major": 2,
       "version_minor": 0
      },
      "text/plain": [
       "search terms in abstract:   0%|          | 0/12 [00:00<?, ?it/s]"
      ]
     },
     "metadata": {},
     "output_type": "display_data"
    },
    {
     "name": "stdout",
     "output_type": "stream",
     "text": [
      "2. 신축성 전자소자\n",
      "3. 휴먼 마이크로바이옴\n"
     ]
    },
    {
     "data": {
      "application/vnd.jupyter.widget-view+json": {
       "model_id": "2c745f6ced484ee38b37cbaf1f1d7c88",
       "version_major": 2,
       "version_minor": 0
      },
      "text/plain": [
       "search terms in aukey:   0%|          | 0/10 [00:00<?, ?it/s]"
      ]
     },
     "metadata": {},
     "output_type": "display_data"
    },
    {
     "data": {
      "application/vnd.jupyter.widget-view+json": {
       "model_id": "0b11987949214705b6f4601cd688f118",
       "version_major": 2,
       "version_minor": 0
      },
      "text/plain": [
       "search terms in abstract:   0%|          | 0/10 [00:00<?, ?it/s]"
      ]
     },
     "metadata": {},
     "output_type": "display_data"
    },
    {
     "name": "stdout",
     "output_type": "stream",
     "text": [
      "3. 휴먼 마이크로바이옴\n",
      "4. 암 진단_예측 바이오마커\n"
     ]
    },
    {
     "data": {
      "application/vnd.jupyter.widget-view+json": {
       "model_id": "87220f4ad28a4825b4629fbc8519a19b",
       "version_major": 2,
       "version_minor": 0
      },
      "text/plain": [
       "search terms in aukey:   0%|          | 0/6 [00:00<?, ?it/s]"
      ]
     },
     "metadata": {},
     "output_type": "display_data"
    },
    {
     "data": {
      "application/vnd.jupyter.widget-view+json": {
       "model_id": "f8f3e253769e47cf8c2f0c479d430459",
       "version_major": 2,
       "version_minor": 0
      },
      "text/plain": [
       "search terms in abstract:   0%|          | 0/6 [00:00<?, ?it/s]"
      ]
     },
     "metadata": {},
     "output_type": "display_data"
    },
    {
     "name": "stdout",
     "output_type": "stream",
     "text": [
      "4. 암 진단/예측 바이오마커\n",
      "5. 유전자 편집\n"
     ]
    },
    {
     "data": {
      "application/vnd.jupyter.widget-view+json": {
       "model_id": "f37f7c129a1d45e394559f37d3980b53",
       "version_major": 2,
       "version_minor": 0
      },
      "text/plain": [
       "search terms in aukey:   0%|          | 0/11 [00:00<?, ?it/s]"
      ]
     },
     "metadata": {},
     "output_type": "display_data"
    },
    {
     "data": {
      "application/vnd.jupyter.widget-view+json": {
       "model_id": "e3ea57ee3b9545779f130638676d4140",
       "version_major": 2,
       "version_minor": 0
      },
      "text/plain": [
       "search terms in abstract:   0%|          | 0/11 [00:00<?, ?it/s]"
      ]
     },
     "metadata": {},
     "output_type": "display_data"
    },
    {
     "name": "stdout",
     "output_type": "stream",
     "text": [
      "5. 유전자 편집\n",
      "6.무선 전력 전송\n"
     ]
    },
    {
     "data": {
      "application/vnd.jupyter.widget-view+json": {
       "model_id": "04cb2a0d647144639d0b38e0e37bf922",
       "version_major": 2,
       "version_minor": 0
      },
      "text/plain": [
       "search terms in aukey:   0%|          | 0/5 [00:00<?, ?it/s]"
      ]
     },
     "metadata": {},
     "output_type": "display_data"
    },
    {
     "data": {
      "application/vnd.jupyter.widget-view+json": {
       "model_id": "4fbeccd2ba634dcc91a2e502c2996723",
       "version_major": 2,
       "version_minor": 0
      },
      "text/plain": [
       "search terms in abstract:   0%|          | 0/5 [00:00<?, ?it/s]"
      ]
     },
     "metadata": {},
     "output_type": "display_data"
    },
    {
     "name": "stdout",
     "output_type": "stream",
     "text": [
      "6.무선 전력 전송\n",
      "7. 초대용량 데이터 대응 광통신 기술\n"
     ]
    },
    {
     "data": {
      "application/vnd.jupyter.widget-view+json": {
       "model_id": "c5b2477a323246e2acd2be113a3578a0",
       "version_major": 2,
       "version_minor": 0
      },
      "text/plain": [
       "search terms in aukey:   0%|          | 0/15 [00:00<?, ?it/s]"
      ]
     },
     "metadata": {},
     "output_type": "display_data"
    },
    {
     "data": {
      "application/vnd.jupyter.widget-view+json": {
       "model_id": "9ddb62ed2d074fe89c7c893b427e3e7d",
       "version_major": 2,
       "version_minor": 0
      },
      "text/plain": [
       "search terms in abstract:   0%|          | 0/15 [00:00<?, ?it/s]"
      ]
     },
     "metadata": {},
     "output_type": "display_data"
    },
    {
     "name": "stdout",
     "output_type": "stream",
     "text": [
      "7. 초대용량 데이터 대응 광통신 기술\n",
      "8. 면역세포치료\n"
     ]
    },
    {
     "data": {
      "application/vnd.jupyter.widget-view+json": {
       "model_id": "583c4abde59b474790b8287f0a594ee4",
       "version_major": 2,
       "version_minor": 0
      },
      "text/plain": [
       "search terms in aukey:   0%|          | 0/3 [00:00<?, ?it/s]"
      ]
     },
     "metadata": {},
     "output_type": "display_data"
    },
    {
     "data": {
      "application/vnd.jupyter.widget-view+json": {
       "model_id": "b9b4a47918a84216b76035c0270ea0fd",
       "version_major": 2,
       "version_minor": 0
      },
      "text/plain": [
       "search terms in abstract:   0%|          | 0/3 [00:00<?, ?it/s]"
      ]
     },
     "metadata": {},
     "output_type": "display_data"
    },
    {
     "name": "stdout",
     "output_type": "stream",
     "text": [
      "8. 면역세포치료\n",
      "9. 나노유체 이용 에너지 효율화\n"
     ]
    },
    {
     "data": {
      "application/vnd.jupyter.widget-view+json": {
       "model_id": "649e99bb416e408d8276e4e85b43d2e4",
       "version_major": 2,
       "version_minor": 0
      },
      "text/plain": [
       "search terms in aukey:   0%|          | 0/6 [00:00<?, ?it/s]"
      ]
     },
     "metadata": {},
     "output_type": "display_data"
    },
    {
     "data": {
      "application/vnd.jupyter.widget-view+json": {
       "model_id": "fdf5f79d058444bba4e277c73ca128db",
       "version_major": 2,
       "version_minor": 0
      },
      "text/plain": [
       "search terms in abstract:   0%|          | 0/6 [00:00<?, ?it/s]"
      ]
     },
     "metadata": {},
     "output_type": "display_data"
    },
    {
     "name": "stdout",
     "output_type": "stream",
     "text": [
      "9. 나노유체 이용 에너지 효율화\n"
     ]
    }
   ],
   "source": [
    "# 각 용어(term)이 df(저자키워드 검색결과), df_abs(초록 검색결과)에서 어느 행의 검색에 기여했는지를 찾고\n",
    "# , 이를 새 컬럼(True/False)으로 추가하고, csv로 저장\n",
    "for tech in tqdm(techs, desc=f'processing tech {tech}'):\n",
    "    safe_tech = sanitize_filename(tech)  # 파일 이름을 안전하게 변환\n",
    "    print(safe_tech)\n",
    "    base_path = 'F:/cluster_test_2024/search_results_2024-06-04'\n",
    "    os.makedirs(base_path, exist_ok=True)  # 폴더가 없으면 생성\n",
    "\n",
    "    termlist =  list(technology_search_results[tech]['npubs_contain_searchterms'].index)\n",
    "    df = technology_search_results[tech]['concatenated_results']\n",
    "    df_abs = technology_search_results[tech]['concatenated_results_abs']\n",
    "    for term in tqdm(termlist, desc = 'search terms in aukey'):\n",
    "        df[term] = df['aukey_modified'].str.contains(f\".*{term}.*\", case=False, regex=True)\n",
    "    for term in tqdm(termlist, desc = 'search terms in abstract'):\n",
    "        df_abs[term] = df_abs['abstract'].str.contains(f\".*{term}.*\", case=False, regex=True)\n",
    "    df.to_csv(\n",
    "        os.path.join(base_path, f'{safe_tech}_search_results_from_aukey_updated.csv')\n",
    "    )\n",
    "    df_abs.to_csv(\n",
    "        os.path.join(base_path, f'{safe_tech}_search_results_from_abstract_updated.csv')\n",
    "    )\n",
    "    print(tech)"
   ]
  },
  {
   "cell_type": "code",
   "execution_count": 283,
   "id": "ca22653d",
   "metadata": {},
   "outputs": [
    {
     "data": {
      "application/vnd.jupyter.widget-view+json": {
       "model_id": "159572c9b09f4ac2a4807e2aeaad57d1",
       "version_major": 2,
       "version_minor": 0
      },
      "text/plain": [
       "  0%|          | 0/4 [00:00<?, ?it/s]"
      ]
     },
     "metadata": {},
     "output_type": "display_data"
    },
    {
     "name": "stdout",
     "output_type": "stream",
     "text": [
      "1-1. 금속 3D 프린팅(A-set)gpt\n",
      "1-1. 금속 3D 프린팅(A-set)gpt_smaller\n",
      "1-2. 금속 3D 프린팅(B-set)gpt\n",
      "7. 초대용량 데이터 대응 광통신 기술_gpt\n"
     ]
    }
   ],
   "source": [
    "# df_abs(초록 검색결과) 중, df(저자키워드 검색결과)에 존재하는 행을 제외한 나머지행만 따로 추출하여 csv 저장\n",
    "\n",
    "for tech in tqdm(techs):\n",
    "    safe_tech = sanitize_filename(tech)  # 파일 이름을 안전하게 변환\n",
    "    print(safe_tech)\n",
    "    base_path = 'F:/cluster_test_2024/search_results_2024-06-04'\n",
    "    os.makedirs(base_path, exist_ok=True)  # 폴더가 없으면 생성\n",
    "    \n",
    "    df = technology_search_results[tech]['concatenated_results']\n",
    "    df_abs = technology_search_results[tech]['concatenated_results_abs']\n",
    "    df_abs_div = df_abs.loc[~(df_abs['uid'].isin(df['uid']))]\n",
    "    df_abs_div.to_csv(\n",
    "        os.path.join(base_path, f'{safe_tech}_only-abs_not-aukey.csv')\n",
    "    )"
   ]
  },
  {
   "cell_type": "code",
   "execution_count": null,
   "id": "9a594b84",
   "metadata": {},
   "outputs": [],
   "source": []
  },
  {
   "cell_type": "code",
   "execution_count": 284,
   "id": "e8cf0133",
   "metadata": {},
   "outputs": [
    {
     "data": {
      "text/html": [
       "<div>\n",
       "<style scoped>\n",
       "    .dataframe tbody tr th:only-of-type {\n",
       "        vertical-align: middle;\n",
       "    }\n",
       "\n",
       "    .dataframe tbody tr th {\n",
       "        vertical-align: top;\n",
       "    }\n",
       "\n",
       "    .dataframe thead th {\n",
       "        text-align: right;\n",
       "    }\n",
       "</style>\n",
       "<table border=\"1\" class=\"dataframe\">\n",
       "  <thead>\n",
       "    <tr style=\"text-align: right;\">\n",
       "      <th></th>\n",
       "      <th>1-1. 금속 3D 프린팅(A-set)gpt</th>\n",
       "      <th>1-2. 금속 3D 프린팅(B-set)gpt</th>\n",
       "      <th>1-1. 금속 3D 프린팅(A-set)gpt_smaller</th>\n",
       "      <th>7. 초대용량 데이터 대응 광통신 기술_gpt</th>\n",
       "    </tr>\n",
       "  </thead>\n",
       "  <tbody>\n",
       "    <tr>\n",
       "      <th>concatenated_results</th>\n",
       "      <td>uid  pubyear  \\\n",
       "0     WO...</td>\n",
       "      <td>uid  pubyear  \\\n",
       "0    WOS:...</td>\n",
       "      <td>uid  pubyear  \\\n",
       "0    WOS:...</td>\n",
       "      <td>uid  pubyear  \\\n",
       "0    WOS:...</td>\n",
       "    </tr>\n",
       "    <tr>\n",
       "      <th>concatenated_results_abs</th>\n",
       "      <td>uid  pubyear  \\\n",
       "0     WO...</td>\n",
       "      <td>uid  pubyear  \\\n",
       "0    WOS:...</td>\n",
       "      <td>uid  pubyear  \\\n",
       "0    WOS:...</td>\n",
       "      <td>uid  pubyear  \\\n",
       "0    WOS:...</td>\n",
       "    </tr>\n",
       "    <tr>\n",
       "      <th>npubs_contain_searchterms</th>\n",
       "      <td>aukey_npubs  abstra...</td>\n",
       "      <td>aukey_npubs  abs...</td>\n",
       "      <td>aukey_npubs  ...</td>\n",
       "      <td>index ...</td>\n",
       "    </tr>\n",
       "  </tbody>\n",
       "</table>\n",
       "</div>"
      ],
      "text/plain": [
       "                                                    1-1. 금속 3D 프린팅(A-set)gpt  \\\n",
       "concatenated_results                             uid  pubyear  \\\n",
       "0     WO...   \n",
       "concatenated_results_abs                         uid  pubyear  \\\n",
       "0     WO...   \n",
       "npubs_contain_searchterms                             aukey_npubs  abstra...   \n",
       "\n",
       "                                                    1-2. 금속 3D 프린팅(B-set)gpt  \\\n",
       "concatenated_results                            uid  pubyear  \\\n",
       "0    WOS:...   \n",
       "concatenated_results_abs                        uid  pubyear  \\\n",
       "0    WOS:...   \n",
       "npubs_contain_searchterms                                aukey_npubs  abs...   \n",
       "\n",
       "                                            1-1. 금속 3D 프린팅(A-set)gpt_smaller  \\\n",
       "concatenated_results                            uid  pubyear  \\\n",
       "0    WOS:...   \n",
       "concatenated_results_abs                        uid  pubyear  \\\n",
       "0    WOS:...   \n",
       "npubs_contain_searchterms                                   aukey_npubs  ...   \n",
       "\n",
       "                                                   7. 초대용량 데이터 대응 광통신 기술_gpt  \n",
       "concatenated_results                            uid  pubyear  \\\n",
       "0    WOS:...  \n",
       "concatenated_results_abs                        uid  pubyear  \\\n",
       "0    WOS:...  \n",
       "npubs_contain_searchterms                                          index ...  "
      ]
     },
     "execution_count": 284,
     "metadata": {},
     "output_type": "execute_result"
    }
   ],
   "source": [
    "df_technology_search_results"
   ]
  },
  {
   "cell_type": "code",
   "execution_count": null,
   "id": "fc4ec978",
   "metadata": {},
   "outputs": [],
   "source": [
    "# 다른 관점의 데이터 묶음 저장 키워드 OR 초록 에서 검색 결과 (uid와 텍스트, bibs 정보?)"
   ]
  },
  {
   "cell_type": "code",
   "execution_count": 285,
   "id": "248db97b",
   "metadata": {},
   "outputs": [
    {
     "data": {
      "application/vnd.jupyter.widget-view+json": {
       "model_id": "15da124cd8dc4b9694910ff648ee60ad",
       "version_major": 2,
       "version_minor": 0
      },
      "text/plain": [
       "  0%|          | 0/4 [00:00<?, ?it/s]"
      ]
     },
     "metadata": {},
     "output_type": "display_data"
    },
    {
     "name": "stdout",
     "output_type": "stream",
     "text": [
      "1-1. 금속 3D 프린팅(A-set)gpt\n",
      "1-1. 금속 3D 프린팅(A-set)gpt_smaller\n",
      "1-2. 금속 3D 프린팅(B-set)gpt\n",
      "7. 초대용량 데이터 대응 광통신 기술_gpt\n"
     ]
    }
   ],
   "source": [
    "# 두 데이터프레임의 합집합을 만들고 중복 제거\n",
    "\n",
    "for tech in tqdm(techs):\n",
    "    safe_tech = sanitize_filename(tech)  # 파일 이름을 안전하게 변환\n",
    "    print(safe_tech)\n",
    "    base_path = 'F:/cluster_test_2024/search_results_2024-06-04'\n",
    "    os.makedirs(base_path, exist_ok=True)  # 폴더가 없으면 생성\n",
    "    \n",
    "    df = technology_search_results[tech]['concatenated_results']\n",
    "    df_abs = technology_search_results[tech]['concatenated_results_abs']\n",
    "    df_combined = pd.concat([df[['uid', 'pubyear', 'item', 'aukey', 'abstract']], \n",
    "                             df_abs[['uid', 'pubyear', 'item', 'aukey', 'abstract']]]).drop_duplicates().reset_index(drop=True)\n",
    "    \n",
    "    \n",
    "    df_combined.to_csv(\n",
    "        os.path.join(base_path, f'{safe_tech}_aukey_or_abs_search_results_textinfo.csv')\n",
    "    )"
   ]
  },
  {
   "cell_type": "code",
   "execution_count": 289,
   "id": "e56def0e",
   "metadata": {},
   "outputs": [
    {
     "data": {
      "text/plain": [
       "4"
      ]
     },
     "execution_count": 289,
     "metadata": {},
     "output_type": "execute_result"
    }
   ],
   "source": [
    "len(techs)"
   ]
  },
  {
   "cell_type": "code",
   "execution_count": 287,
   "id": "e1fd1134",
   "metadata": {},
   "outputs": [
    {
     "data": {
      "application/vnd.jupyter.widget-view+json": {
       "model_id": "335b0902451246f4af73a1dfba5adc5e",
       "version_major": 2,
       "version_minor": 0
      },
      "text/plain": [
       "  0%|          | 0/4 [00:00<?, ?it/s]"
      ]
     },
     "metadata": {},
     "output_type": "display_data"
    },
    {
     "data": {
      "image/png": "[encoded data removed]",
      "text/plain": [
       "<Figure size 2000x1500 with 4 Axes>"
      ]
     },
     "metadata": {},
     "output_type": "display_data"
    }
   ],
   "source": [
    "import matplotlib.pyplot as plt\n",
    "\n",
    "# 딕셔너리에 df_combined 저장\n",
    "df_combined_dict = {}\n",
    "\n",
    "for i in tqdm(range(0, len(techs))):\n",
    "    tech = techs[i]\n",
    "    df = technology_search_results[tech]['concatenated_results']\n",
    "    df_abs = technology_search_results[tech]['concatenated_results_abs']\n",
    "    df_combined = pd.concat([df[['uid', 'pubyear', 'item', 'aukey', 'abstract']], \n",
    "                             df_abs[['uid', 'pubyear', 'item', 'aukey', 'abstract']]]).drop_duplicates().reset_index(drop=True)\n",
    "    df_combined_dict[tech] = df_combined\n",
    "\n",
    "# df_combined_dict의 값을 리스트로 변환\n",
    "df_combined_list = list(df_combined_dict.values())\n",
    "\n",
    "# 서브플롯 생성 (3행 4열, 마지막 하나는 빈 서브플롯이 됨)\n",
    "fig, axes = plt.subplots(nrows=3, ncols=4, figsize=(20, 15))\n",
    "axes = axes.flatten()\n",
    "\n",
    "# 각 데이터프레임에 대해 그래프 생성\n",
    "for i, df_combined in enumerate(df_combined_list):\n",
    "    # pubyear에 따른 uid 수 집계\n",
    "    uid_counts = df_combined.groupby('pubyear')['uid'].nunique().reset_index()\n",
    "\n",
    "    # 서브플롯에 그래프 그리기\n",
    "    axes[i].plot(uid_counts['pubyear'], uid_counts['uid'], marker='o', linestyle='-')\n",
    "    axes[i].set_title(f'DataFrame {i+1}')\n",
    "    axes[i].set_xlabel('Publication Year')\n",
    "    axes[i].set_ylabel('Number of Unique UIDs')\n",
    "    axes[i].grid(True)\n",
    "\n",
    "# 레이아웃 조정\n",
    "plt.tight_layout()\n",
    "\n",
    "# 마지막 서브플롯을 빈 플롯으로 유지 (없앨 수도 있음)\n",
    "if len(df_combined_list) < len(axes):\n",
    "    for j in range(len(df_combined_list), len(axes)):\n",
    "        fig.delaxes(axes[j])\n",
    "\n",
    "# 그래프 표시\n",
    "plt.show()\n"
   ]
  },
  {
   "cell_type": "code",
   "execution_count": 288,
   "id": "db071061",
   "metadata": {
    "id": "db071061",
    "outputId": "a2081128-9c15-460d-a279-8b58f56b43a9"
   },
   "outputs": [
    {
     "data": {
      "application/vnd.jupyter.widget-view+json": {
       "model_id": "a11661f3d6d543fa9e8972dea3d1a2fa",
       "version_major": 2,
       "version_minor": 0
      },
      "text/plain": [
       "  0%|          | 0/4 [00:00<?, ?it/s]"
      ]
     },
     "metadata": {},
     "output_type": "display_data"
    },
    {
     "name": "stdout",
     "output_type": "stream",
     "text": [
      "1-1. 금속 3D 프린팅(A-set)gpt\n",
      "1-1. 금속 3D 프린팅(A-set)gpt\n",
      "1-1. 금속 3D 프린팅(A-set)gpt_smaller\n",
      "1-1. 금속 3D 프린팅(A-set)gpt_smaller\n",
      "1-2. 금속 3D 프린팅(B-set)gpt\n",
      "1-2. 금속 3D 프린팅(B-set)gpt\n",
      "7. 초대용량 데이터 대응 광통신 기술_gpt\n",
      "7. 초대용량 데이터 대응 광통신 기술_gpt\n"
     ]
    }
   ],
   "source": [
    "# df_abs(초록 검색결과) 중, df(저자키워드 검색결과)에 존재하는 행을 제외한 나머지행만 따로 추출하여 csv 저장\n",
    "for i in tqdm(range(0,len(techs))):\n",
    "    print(techs[i])\n",
    "    tech = techs[i]\n",
    "    safe_tech = sanitize_filename(tech)  # 파일 이름을 안전하게 변환\n",
    "    print(safe_tech)\n",
    "    base_path = 'F:/cluster_test_2024/search_results_2024-06-04'\n",
    "    os.makedirs(base_path, exist_ok=True)  # 폴더가 없으면 생성\n",
    "\n",
    "    df = technology_search_results[techs[i]]['concatenated_results']\n",
    "    df_abs = technology_search_results[techs[i]]['concatenated_results_abs']\n",
    "    df_abs_div = df_abs.loc[~(df_abs['uid'].isin(df['uid']))]\n",
    "    df_abs_div.to_csv(\n",
    "        os.path.join(base_path, f'{safe_tech}_only-abs_not-aukey.csv')\n",
    "    )"
   ]
  },
  {
   "cell_type": "code",
   "execution_count": null,
   "id": "2a123c88",
   "metadata": {},
   "outputs": [],
   "source": []
  },
  {
   "cell_type": "markdown",
   "id": "f34d332f",
   "metadata": {},
   "source": [
    "## 두 결과 합집합 만들기"
   ]
  },
  {
   "cell_type": "code",
   "execution_count": null,
   "id": "b012164a",
   "metadata": {},
   "outputs": [],
   "source": []
  }
 ],
 "metadata": {
  "colab": {
   "provenance": []
  },
  "kernelspec": {
   "display_name": "Python 3 (ipykernel)",
   "language": "python",
   "name": "python3"
  },
  "language_info": {
   "codemirror_mode": {
    "name": "ipython",
    "version": 3
   },
   "file_extension": ".py",
   "mimetype": "text/x-python",
   "name": "python",
   "nbconvert_exporter": "python",
   "pygments_lexer": "ipython3",
   "version": "3.11.9"
  }
 },
 "nbformat": 4,
 "nbformat_minor": 5
}
